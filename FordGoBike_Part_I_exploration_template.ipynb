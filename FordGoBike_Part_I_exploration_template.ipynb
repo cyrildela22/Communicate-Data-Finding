{
 "cells": [
  {
   "cell_type": "markdown",
   "metadata": {},
   "source": [
    "# Part I - (Data Visualization - Ford Gobike System)\n",
    "## by (Cyril Ocloo)\n",
    "\n",
    "## Introduction\n",
    "\n",
    "Ford GoBike is the Bay area’s new bike share system which provides over thousand of public bikes for use across San Francisco, EastBay and San Jose.  FordGoBike is a personalized bicycle-rental app design that also focuses on the health aspect. \n",
    "Ford GoBike, like other bike or scooter share systems, consists of a fleet of specially designed and durable bikes that are locked in docking stations throughout the city of San Francisco, EastBay and San Jose. \n",
    "Residents of the city use bike share to commute to work or school, run errands, get to appointments or social engagements and more. Due to its fun, convenience and affordability, tourist normally use it for sightseeing.\n",
    "The bikes are available for use 24 hours/day.\n",
    "\n",
    "\n",
    "## Preliminary Wrangling\n"
   ]
  },
  {
   "cell_type": "code",
   "execution_count": 3,
   "metadata": {},
   "outputs": [],
   "source": [
    "# import all packages and set plots to be embedded inline\n",
    "import numpy as np\n",
    "import pandas as pd\n",
    "import matplotlib.pyplot as plt\n",
    "import seaborn as sb\n",
    "\n",
    "%matplotlib inline"
   ]
  },
  {
   "cell_type": "markdown",
   "metadata": {},
   "source": [
    "> Load in your dataset and describe its properties through the questions below. Try and motivate your exploration goals through this section.\n"
   ]
  },
  {
   "cell_type": "code",
   "execution_count": 4,
   "metadata": {},
   "outputs": [],
   "source": [
    "#Loading dataset\n",
    "gobike_df=pd.read_csv('201902-fordgobike-tripdata.csv')\n"
   ]
  },
  {
   "cell_type": "code",
   "execution_count": 5,
   "metadata": {},
   "outputs": [
    {
     "data": {
      "text/html": [
       "<div>\n",
       "<style scoped>\n",
       "    .dataframe tbody tr th:only-of-type {\n",
       "        vertical-align: middle;\n",
       "    }\n",
       "\n",
       "    .dataframe tbody tr th {\n",
       "        vertical-align: top;\n",
       "    }\n",
       "\n",
       "    .dataframe thead th {\n",
       "        text-align: right;\n",
       "    }\n",
       "</style>\n",
       "<table border=\"1\" class=\"dataframe\">\n",
       "  <thead>\n",
       "    <tr style=\"text-align: right;\">\n",
       "      <th></th>\n",
       "      <th>duration_sec</th>\n",
       "      <th>start_time</th>\n",
       "      <th>end_time</th>\n",
       "      <th>start_station_id</th>\n",
       "      <th>start_station_name</th>\n",
       "      <th>start_station_latitude</th>\n",
       "      <th>start_station_longitude</th>\n",
       "      <th>end_station_id</th>\n",
       "      <th>end_station_name</th>\n",
       "      <th>end_station_latitude</th>\n",
       "      <th>end_station_longitude</th>\n",
       "      <th>bike_id</th>\n",
       "      <th>user_type</th>\n",
       "      <th>member_birth_year</th>\n",
       "      <th>member_gender</th>\n",
       "      <th>bike_share_for_all_trip</th>\n",
       "    </tr>\n",
       "  </thead>\n",
       "  <tbody>\n",
       "    <tr>\n",
       "      <th>0</th>\n",
       "      <td>52185</td>\n",
       "      <td>2019-02-28 17:32:10.1450</td>\n",
       "      <td>2019-03-01 08:01:55.9750</td>\n",
       "      <td>21.0</td>\n",
       "      <td>Montgomery St BART Station (Market St at 2nd St)</td>\n",
       "      <td>37.789625</td>\n",
       "      <td>-122.400811</td>\n",
       "      <td>13.0</td>\n",
       "      <td>Commercial St at Montgomery St</td>\n",
       "      <td>37.794231</td>\n",
       "      <td>-122.402923</td>\n",
       "      <td>4902</td>\n",
       "      <td>Customer</td>\n",
       "      <td>1984.0</td>\n",
       "      <td>Male</td>\n",
       "      <td>No</td>\n",
       "    </tr>\n",
       "    <tr>\n",
       "      <th>1</th>\n",
       "      <td>42521</td>\n",
       "      <td>2019-02-28 18:53:21.7890</td>\n",
       "      <td>2019-03-01 06:42:03.0560</td>\n",
       "      <td>23.0</td>\n",
       "      <td>The Embarcadero at Steuart St</td>\n",
       "      <td>37.791464</td>\n",
       "      <td>-122.391034</td>\n",
       "      <td>81.0</td>\n",
       "      <td>Berry St at 4th St</td>\n",
       "      <td>37.775880</td>\n",
       "      <td>-122.393170</td>\n",
       "      <td>2535</td>\n",
       "      <td>Customer</td>\n",
       "      <td>NaN</td>\n",
       "      <td>NaN</td>\n",
       "      <td>No</td>\n",
       "    </tr>\n",
       "    <tr>\n",
       "      <th>2</th>\n",
       "      <td>61854</td>\n",
       "      <td>2019-02-28 12:13:13.2180</td>\n",
       "      <td>2019-03-01 05:24:08.1460</td>\n",
       "      <td>86.0</td>\n",
       "      <td>Market St at Dolores St</td>\n",
       "      <td>37.769305</td>\n",
       "      <td>-122.426826</td>\n",
       "      <td>3.0</td>\n",
       "      <td>Powell St BART Station (Market St at 4th St)</td>\n",
       "      <td>37.786375</td>\n",
       "      <td>-122.404904</td>\n",
       "      <td>5905</td>\n",
       "      <td>Customer</td>\n",
       "      <td>1972.0</td>\n",
       "      <td>Male</td>\n",
       "      <td>No</td>\n",
       "    </tr>\n",
       "    <tr>\n",
       "      <th>3</th>\n",
       "      <td>36490</td>\n",
       "      <td>2019-02-28 17:54:26.0100</td>\n",
       "      <td>2019-03-01 04:02:36.8420</td>\n",
       "      <td>375.0</td>\n",
       "      <td>Grove St at Masonic Ave</td>\n",
       "      <td>37.774836</td>\n",
       "      <td>-122.446546</td>\n",
       "      <td>70.0</td>\n",
       "      <td>Central Ave at Fell St</td>\n",
       "      <td>37.773311</td>\n",
       "      <td>-122.444293</td>\n",
       "      <td>6638</td>\n",
       "      <td>Subscriber</td>\n",
       "      <td>1989.0</td>\n",
       "      <td>Other</td>\n",
       "      <td>No</td>\n",
       "    </tr>\n",
       "    <tr>\n",
       "      <th>4</th>\n",
       "      <td>1585</td>\n",
       "      <td>2019-02-28 23:54:18.5490</td>\n",
       "      <td>2019-03-01 00:20:44.0740</td>\n",
       "      <td>7.0</td>\n",
       "      <td>Frank H Ogawa Plaza</td>\n",
       "      <td>37.804562</td>\n",
       "      <td>-122.271738</td>\n",
       "      <td>222.0</td>\n",
       "      <td>10th Ave at E 15th St</td>\n",
       "      <td>37.792714</td>\n",
       "      <td>-122.248780</td>\n",
       "      <td>4898</td>\n",
       "      <td>Subscriber</td>\n",
       "      <td>1974.0</td>\n",
       "      <td>Male</td>\n",
       "      <td>Yes</td>\n",
       "    </tr>\n",
       "    <tr>\n",
       "      <th>5</th>\n",
       "      <td>1793</td>\n",
       "      <td>2019-02-28 23:49:58.6320</td>\n",
       "      <td>2019-03-01 00:19:51.7600</td>\n",
       "      <td>93.0</td>\n",
       "      <td>4th St at Mission Bay Blvd S</td>\n",
       "      <td>37.770407</td>\n",
       "      <td>-122.391198</td>\n",
       "      <td>323.0</td>\n",
       "      <td>Broadway at Kearny</td>\n",
       "      <td>37.798014</td>\n",
       "      <td>-122.405950</td>\n",
       "      <td>5200</td>\n",
       "      <td>Subscriber</td>\n",
       "      <td>1959.0</td>\n",
       "      <td>Male</td>\n",
       "      <td>No</td>\n",
       "    </tr>\n",
       "    <tr>\n",
       "      <th>6</th>\n",
       "      <td>1147</td>\n",
       "      <td>2019-02-28 23:55:35.1040</td>\n",
       "      <td>2019-03-01 00:14:42.5880</td>\n",
       "      <td>300.0</td>\n",
       "      <td>Palm St at Willow St</td>\n",
       "      <td>37.317298</td>\n",
       "      <td>-121.884995</td>\n",
       "      <td>312.0</td>\n",
       "      <td>San Jose Diridon Station</td>\n",
       "      <td>37.329732</td>\n",
       "      <td>-121.901782</td>\n",
       "      <td>3803</td>\n",
       "      <td>Subscriber</td>\n",
       "      <td>1983.0</td>\n",
       "      <td>Female</td>\n",
       "      <td>No</td>\n",
       "    </tr>\n",
       "    <tr>\n",
       "      <th>7</th>\n",
       "      <td>1615</td>\n",
       "      <td>2019-02-28 23:41:06.7660</td>\n",
       "      <td>2019-03-01 00:08:02.7560</td>\n",
       "      <td>10.0</td>\n",
       "      <td>Washington St at Kearny St</td>\n",
       "      <td>37.795393</td>\n",
       "      <td>-122.404770</td>\n",
       "      <td>127.0</td>\n",
       "      <td>Valencia St at 21st St</td>\n",
       "      <td>37.756708</td>\n",
       "      <td>-122.421025</td>\n",
       "      <td>6329</td>\n",
       "      <td>Subscriber</td>\n",
       "      <td>1989.0</td>\n",
       "      <td>Male</td>\n",
       "      <td>No</td>\n",
       "    </tr>\n",
       "    <tr>\n",
       "      <th>8</th>\n",
       "      <td>1570</td>\n",
       "      <td>2019-02-28 23:41:48.7900</td>\n",
       "      <td>2019-03-01 00:07:59.7150</td>\n",
       "      <td>10.0</td>\n",
       "      <td>Washington St at Kearny St</td>\n",
       "      <td>37.795393</td>\n",
       "      <td>-122.404770</td>\n",
       "      <td>127.0</td>\n",
       "      <td>Valencia St at 21st St</td>\n",
       "      <td>37.756708</td>\n",
       "      <td>-122.421025</td>\n",
       "      <td>6548</td>\n",
       "      <td>Subscriber</td>\n",
       "      <td>1988.0</td>\n",
       "      <td>Other</td>\n",
       "      <td>No</td>\n",
       "    </tr>\n",
       "    <tr>\n",
       "      <th>9</th>\n",
       "      <td>1049</td>\n",
       "      <td>2019-02-28 23:49:47.6990</td>\n",
       "      <td>2019-03-01 00:07:17.0250</td>\n",
       "      <td>19.0</td>\n",
       "      <td>Post St at Kearny St</td>\n",
       "      <td>37.788975</td>\n",
       "      <td>-122.403452</td>\n",
       "      <td>121.0</td>\n",
       "      <td>Mission Playground</td>\n",
       "      <td>37.759210</td>\n",
       "      <td>-122.421339</td>\n",
       "      <td>6488</td>\n",
       "      <td>Subscriber</td>\n",
       "      <td>1992.0</td>\n",
       "      <td>Male</td>\n",
       "      <td>No</td>\n",
       "    </tr>\n",
       "  </tbody>\n",
       "</table>\n",
       "</div>"
      ],
      "text/plain": [
       "   duration_sec                start_time                  end_time  \\\n",
       "0         52185  2019-02-28 17:32:10.1450  2019-03-01 08:01:55.9750   \n",
       "1         42521  2019-02-28 18:53:21.7890  2019-03-01 06:42:03.0560   \n",
       "2         61854  2019-02-28 12:13:13.2180  2019-03-01 05:24:08.1460   \n",
       "3         36490  2019-02-28 17:54:26.0100  2019-03-01 04:02:36.8420   \n",
       "4          1585  2019-02-28 23:54:18.5490  2019-03-01 00:20:44.0740   \n",
       "5          1793  2019-02-28 23:49:58.6320  2019-03-01 00:19:51.7600   \n",
       "6          1147  2019-02-28 23:55:35.1040  2019-03-01 00:14:42.5880   \n",
       "7          1615  2019-02-28 23:41:06.7660  2019-03-01 00:08:02.7560   \n",
       "8          1570  2019-02-28 23:41:48.7900  2019-03-01 00:07:59.7150   \n",
       "9          1049  2019-02-28 23:49:47.6990  2019-03-01 00:07:17.0250   \n",
       "\n",
       "   start_station_id                                start_station_name  \\\n",
       "0              21.0  Montgomery St BART Station (Market St at 2nd St)   \n",
       "1              23.0                     The Embarcadero at Steuart St   \n",
       "2              86.0                           Market St at Dolores St   \n",
       "3             375.0                           Grove St at Masonic Ave   \n",
       "4               7.0                               Frank H Ogawa Plaza   \n",
       "5              93.0                      4th St at Mission Bay Blvd S   \n",
       "6             300.0                              Palm St at Willow St   \n",
       "7              10.0                        Washington St at Kearny St   \n",
       "8              10.0                        Washington St at Kearny St   \n",
       "9              19.0                              Post St at Kearny St   \n",
       "\n",
       "   start_station_latitude  start_station_longitude  end_station_id  \\\n",
       "0               37.789625              -122.400811            13.0   \n",
       "1               37.791464              -122.391034            81.0   \n",
       "2               37.769305              -122.426826             3.0   \n",
       "3               37.774836              -122.446546            70.0   \n",
       "4               37.804562              -122.271738           222.0   \n",
       "5               37.770407              -122.391198           323.0   \n",
       "6               37.317298              -121.884995           312.0   \n",
       "7               37.795393              -122.404770           127.0   \n",
       "8               37.795393              -122.404770           127.0   \n",
       "9               37.788975              -122.403452           121.0   \n",
       "\n",
       "                               end_station_name  end_station_latitude  \\\n",
       "0                Commercial St at Montgomery St             37.794231   \n",
       "1                            Berry St at 4th St             37.775880   \n",
       "2  Powell St BART Station (Market St at 4th St)             37.786375   \n",
       "3                        Central Ave at Fell St             37.773311   \n",
       "4                         10th Ave at E 15th St             37.792714   \n",
       "5                            Broadway at Kearny             37.798014   \n",
       "6                      San Jose Diridon Station             37.329732   \n",
       "7                        Valencia St at 21st St             37.756708   \n",
       "8                        Valencia St at 21st St             37.756708   \n",
       "9                            Mission Playground             37.759210   \n",
       "\n",
       "   end_station_longitude  bike_id   user_type  member_birth_year  \\\n",
       "0            -122.402923     4902    Customer             1984.0   \n",
       "1            -122.393170     2535    Customer                NaN   \n",
       "2            -122.404904     5905    Customer             1972.0   \n",
       "3            -122.444293     6638  Subscriber             1989.0   \n",
       "4            -122.248780     4898  Subscriber             1974.0   \n",
       "5            -122.405950     5200  Subscriber             1959.0   \n",
       "6            -121.901782     3803  Subscriber             1983.0   \n",
       "7            -122.421025     6329  Subscriber             1989.0   \n",
       "8            -122.421025     6548  Subscriber             1988.0   \n",
       "9            -122.421339     6488  Subscriber             1992.0   \n",
       "\n",
       "  member_gender bike_share_for_all_trip  \n",
       "0          Male                      No  \n",
       "1           NaN                      No  \n",
       "2          Male                      No  \n",
       "3         Other                      No  \n",
       "4          Male                     Yes  \n",
       "5          Male                      No  \n",
       "6        Female                      No  \n",
       "7          Male                      No  \n",
       "8         Other                      No  \n",
       "9          Male                      No  "
      ]
     },
     "execution_count": 5,
     "metadata": {},
     "output_type": "execute_result"
    }
   ],
   "source": [
    "#View the first 5 rows\n",
    "gobike_df.head(10)"
   ]
  },
  {
   "cell_type": "code",
   "execution_count": 6,
   "metadata": {},
   "outputs": [
    {
     "data": {
      "text/html": [
       "<div>\n",
       "<style scoped>\n",
       "    .dataframe tbody tr th:only-of-type {\n",
       "        vertical-align: middle;\n",
       "    }\n",
       "\n",
       "    .dataframe tbody tr th {\n",
       "        vertical-align: top;\n",
       "    }\n",
       "\n",
       "    .dataframe thead th {\n",
       "        text-align: right;\n",
       "    }\n",
       "</style>\n",
       "<table border=\"1\" class=\"dataframe\">\n",
       "  <thead>\n",
       "    <tr style=\"text-align: right;\">\n",
       "      <th></th>\n",
       "      <th>duration_sec</th>\n",
       "      <th>start_time</th>\n",
       "      <th>end_time</th>\n",
       "      <th>start_station_id</th>\n",
       "      <th>start_station_name</th>\n",
       "      <th>start_station_latitude</th>\n",
       "      <th>start_station_longitude</th>\n",
       "      <th>end_station_id</th>\n",
       "      <th>end_station_name</th>\n",
       "      <th>end_station_latitude</th>\n",
       "      <th>end_station_longitude</th>\n",
       "      <th>bike_id</th>\n",
       "      <th>user_type</th>\n",
       "      <th>member_birth_year</th>\n",
       "      <th>member_gender</th>\n",
       "      <th>bike_share_for_all_trip</th>\n",
       "    </tr>\n",
       "  </thead>\n",
       "  <tbody>\n",
       "    <tr>\n",
       "      <th>165447</th>\n",
       "      <td>496</td>\n",
       "      <td>2019-02-05 06:59:32.8260</td>\n",
       "      <td>2019-02-05 07:07:49.7900</td>\n",
       "      <td>180.0</td>\n",
       "      <td>Telegraph Ave at 23rd St</td>\n",
       "      <td>37.812678</td>\n",
       "      <td>-122.268773</td>\n",
       "      <td>176.0</td>\n",
       "      <td>MacArthur BART Station</td>\n",
       "      <td>37.828410</td>\n",
       "      <td>-122.266315</td>\n",
       "      <td>3267</td>\n",
       "      <td>Subscriber</td>\n",
       "      <td>NaN</td>\n",
       "      <td>NaN</td>\n",
       "      <td>No</td>\n",
       "    </tr>\n",
       "    <tr>\n",
       "      <th>6850</th>\n",
       "      <td>851</td>\n",
       "      <td>2019-02-28 09:31:10.7410</td>\n",
       "      <td>2019-02-28 09:45:22.5670</td>\n",
       "      <td>324.0</td>\n",
       "      <td>Union Square (Powell St at Post St)</td>\n",
       "      <td>37.788300</td>\n",
       "      <td>-122.408531</td>\n",
       "      <td>11.0</td>\n",
       "      <td>Davis St at Jackson St</td>\n",
       "      <td>37.797280</td>\n",
       "      <td>-122.398436</td>\n",
       "      <td>5972</td>\n",
       "      <td>Subscriber</td>\n",
       "      <td>1988.0</td>\n",
       "      <td>Male</td>\n",
       "      <td>No</td>\n",
       "    </tr>\n",
       "    <tr>\n",
       "      <th>16992</th>\n",
       "      <td>759</td>\n",
       "      <td>2019-02-27 07:43:41.4940</td>\n",
       "      <td>2019-02-27 07:56:20.8740</td>\n",
       "      <td>58.0</td>\n",
       "      <td>Market St at 10th St</td>\n",
       "      <td>37.776619</td>\n",
       "      <td>-122.417385</td>\n",
       "      <td>66.0</td>\n",
       "      <td>3rd St at Townsend St</td>\n",
       "      <td>37.778742</td>\n",
       "      <td>-122.392741</td>\n",
       "      <td>6552</td>\n",
       "      <td>Subscriber</td>\n",
       "      <td>1982.0</td>\n",
       "      <td>Male</td>\n",
       "      <td>No</td>\n",
       "    </tr>\n",
       "    <tr>\n",
       "      <th>134974</th>\n",
       "      <td>963</td>\n",
       "      <td>2019-02-08 16:07:45.9000</td>\n",
       "      <td>2019-02-08 16:23:49.0190</td>\n",
       "      <td>25.0</td>\n",
       "      <td>Howard St at 2nd St</td>\n",
       "      <td>37.787522</td>\n",
       "      <td>-122.397405</td>\n",
       "      <td>114.0</td>\n",
       "      <td>Rhode Island St at 17th St</td>\n",
       "      <td>37.764478</td>\n",
       "      <td>-122.402570</td>\n",
       "      <td>5253</td>\n",
       "      <td>Subscriber</td>\n",
       "      <td>1983.0</td>\n",
       "      <td>Male</td>\n",
       "      <td>No</td>\n",
       "    </tr>\n",
       "    <tr>\n",
       "      <th>22678</th>\n",
       "      <td>599</td>\n",
       "      <td>2019-02-26 07:14:43.6630</td>\n",
       "      <td>2019-02-26 07:24:43.2260</td>\n",
       "      <td>119.0</td>\n",
       "      <td>18th St at Noe St</td>\n",
       "      <td>37.761047</td>\n",
       "      <td>-122.432642</td>\n",
       "      <td>88.0</td>\n",
       "      <td>11th St at Bryant St</td>\n",
       "      <td>37.770030</td>\n",
       "      <td>-122.411726</td>\n",
       "      <td>4757</td>\n",
       "      <td>Subscriber</td>\n",
       "      <td>1981.0</td>\n",
       "      <td>Male</td>\n",
       "      <td>No</td>\n",
       "    </tr>\n",
       "    <tr>\n",
       "      <th>21592</th>\n",
       "      <td>359</td>\n",
       "      <td>2019-02-26 09:06:34.7290</td>\n",
       "      <td>2019-02-26 09:12:34.0060</td>\n",
       "      <td>321.0</td>\n",
       "      <td>5th St at Folsom</td>\n",
       "      <td>37.780146</td>\n",
       "      <td>-122.403071</td>\n",
       "      <td>350.0</td>\n",
       "      <td>8th St at Brannan St</td>\n",
       "      <td>37.771431</td>\n",
       "      <td>-122.405787</td>\n",
       "      <td>6328</td>\n",
       "      <td>Subscriber</td>\n",
       "      <td>1989.0</td>\n",
       "      <td>Male</td>\n",
       "      <td>No</td>\n",
       "    </tr>\n",
       "    <tr>\n",
       "      <th>3116</th>\n",
       "      <td>407</td>\n",
       "      <td>2019-02-28 17:34:47.1850</td>\n",
       "      <td>2019-02-28 17:41:35.1650</td>\n",
       "      <td>58.0</td>\n",
       "      <td>Market St at 10th St</td>\n",
       "      <td>37.776619</td>\n",
       "      <td>-122.417385</td>\n",
       "      <td>324.0</td>\n",
       "      <td>Union Square (Powell St at Post St)</td>\n",
       "      <td>37.788300</td>\n",
       "      <td>-122.408531</td>\n",
       "      <td>4806</td>\n",
       "      <td>Subscriber</td>\n",
       "      <td>1999.0</td>\n",
       "      <td>Female</td>\n",
       "      <td>No</td>\n",
       "    </tr>\n",
       "    <tr>\n",
       "      <th>10995</th>\n",
       "      <td>922</td>\n",
       "      <td>2019-02-27 19:08:59.5620</td>\n",
       "      <td>2019-02-27 19:24:22.0080</td>\n",
       "      <td>3.0</td>\n",
       "      <td>Powell St BART Station (Market St at 4th St)</td>\n",
       "      <td>37.786375</td>\n",
       "      <td>-122.404904</td>\n",
       "      <td>26.0</td>\n",
       "      <td>1st St at Folsom St</td>\n",
       "      <td>37.787290</td>\n",
       "      <td>-122.394380</td>\n",
       "      <td>4817</td>\n",
       "      <td>Subscriber</td>\n",
       "      <td>1999.0</td>\n",
       "      <td>Male</td>\n",
       "      <td>No</td>\n",
       "    </tr>\n",
       "    <tr>\n",
       "      <th>115482</th>\n",
       "      <td>198</td>\n",
       "      <td>2019-02-12 08:43:22.3850</td>\n",
       "      <td>2019-02-12 08:46:40.7400</td>\n",
       "      <td>269.0</td>\n",
       "      <td>Telegraph Ave at Carleton St</td>\n",
       "      <td>37.862320</td>\n",
       "      <td>-122.258801</td>\n",
       "      <td>239.0</td>\n",
       "      <td>Bancroft Way at Telegraph Ave</td>\n",
       "      <td>37.868813</td>\n",
       "      <td>-122.258764</td>\n",
       "      <td>5102</td>\n",
       "      <td>Subscriber</td>\n",
       "      <td>1993.0</td>\n",
       "      <td>Male</td>\n",
       "      <td>Yes</td>\n",
       "    </tr>\n",
       "    <tr>\n",
       "      <th>33762</th>\n",
       "      <td>591</td>\n",
       "      <td>2019-02-24 10:41:52.8870</td>\n",
       "      <td>2019-02-24 10:51:44.1010</td>\n",
       "      <td>74.0</td>\n",
       "      <td>Laguna St at Hayes St</td>\n",
       "      <td>37.776435</td>\n",
       "      <td>-122.426244</td>\n",
       "      <td>100.0</td>\n",
       "      <td>Bryant St at 15th St</td>\n",
       "      <td>37.767100</td>\n",
       "      <td>-122.410662</td>\n",
       "      <td>5849</td>\n",
       "      <td>Subscriber</td>\n",
       "      <td>1994.0</td>\n",
       "      <td>Female</td>\n",
       "      <td>No</td>\n",
       "    </tr>\n",
       "  </tbody>\n",
       "</table>\n",
       "</div>"
      ],
      "text/plain": [
       "        duration_sec                start_time                  end_time  \\\n",
       "165447           496  2019-02-05 06:59:32.8260  2019-02-05 07:07:49.7900   \n",
       "6850             851  2019-02-28 09:31:10.7410  2019-02-28 09:45:22.5670   \n",
       "16992            759  2019-02-27 07:43:41.4940  2019-02-27 07:56:20.8740   \n",
       "134974           963  2019-02-08 16:07:45.9000  2019-02-08 16:23:49.0190   \n",
       "22678            599  2019-02-26 07:14:43.6630  2019-02-26 07:24:43.2260   \n",
       "21592            359  2019-02-26 09:06:34.7290  2019-02-26 09:12:34.0060   \n",
       "3116             407  2019-02-28 17:34:47.1850  2019-02-28 17:41:35.1650   \n",
       "10995            922  2019-02-27 19:08:59.5620  2019-02-27 19:24:22.0080   \n",
       "115482           198  2019-02-12 08:43:22.3850  2019-02-12 08:46:40.7400   \n",
       "33762            591  2019-02-24 10:41:52.8870  2019-02-24 10:51:44.1010   \n",
       "\n",
       "        start_station_id                            start_station_name  \\\n",
       "165447             180.0                      Telegraph Ave at 23rd St   \n",
       "6850               324.0           Union Square (Powell St at Post St)   \n",
       "16992               58.0                          Market St at 10th St   \n",
       "134974              25.0                           Howard St at 2nd St   \n",
       "22678              119.0                             18th St at Noe St   \n",
       "21592              321.0                              5th St at Folsom   \n",
       "3116                58.0                          Market St at 10th St   \n",
       "10995                3.0  Powell St BART Station (Market St at 4th St)   \n",
       "115482             269.0                  Telegraph Ave at Carleton St   \n",
       "33762               74.0                         Laguna St at Hayes St   \n",
       "\n",
       "        start_station_latitude  start_station_longitude  end_station_id  \\\n",
       "165447               37.812678              -122.268773           176.0   \n",
       "6850                 37.788300              -122.408531            11.0   \n",
       "16992                37.776619              -122.417385            66.0   \n",
       "134974               37.787522              -122.397405           114.0   \n",
       "22678                37.761047              -122.432642            88.0   \n",
       "21592                37.780146              -122.403071           350.0   \n",
       "3116                 37.776619              -122.417385           324.0   \n",
       "10995                37.786375              -122.404904            26.0   \n",
       "115482               37.862320              -122.258801           239.0   \n",
       "33762                37.776435              -122.426244           100.0   \n",
       "\n",
       "                           end_station_name  end_station_latitude  \\\n",
       "165447               MacArthur BART Station             37.828410   \n",
       "6850                 Davis St at Jackson St             37.797280   \n",
       "16992                 3rd St at Townsend St             37.778742   \n",
       "134974           Rhode Island St at 17th St             37.764478   \n",
       "22678                  11th St at Bryant St             37.770030   \n",
       "21592                  8th St at Brannan St             37.771431   \n",
       "3116    Union Square (Powell St at Post St)             37.788300   \n",
       "10995                   1st St at Folsom St             37.787290   \n",
       "115482        Bancroft Way at Telegraph Ave             37.868813   \n",
       "33762                  Bryant St at 15th St             37.767100   \n",
       "\n",
       "        end_station_longitude  bike_id   user_type  member_birth_year  \\\n",
       "165447            -122.266315     3267  Subscriber                NaN   \n",
       "6850              -122.398436     5972  Subscriber             1988.0   \n",
       "16992             -122.392741     6552  Subscriber             1982.0   \n",
       "134974            -122.402570     5253  Subscriber             1983.0   \n",
       "22678             -122.411726     4757  Subscriber             1981.0   \n",
       "21592             -122.405787     6328  Subscriber             1989.0   \n",
       "3116              -122.408531     4806  Subscriber             1999.0   \n",
       "10995             -122.394380     4817  Subscriber             1999.0   \n",
       "115482            -122.258764     5102  Subscriber             1993.0   \n",
       "33762             -122.410662     5849  Subscriber             1994.0   \n",
       "\n",
       "       member_gender bike_share_for_all_trip  \n",
       "165447           NaN                      No  \n",
       "6850            Male                      No  \n",
       "16992           Male                      No  \n",
       "134974          Male                      No  \n",
       "22678           Male                      No  \n",
       "21592           Male                      No  \n",
       "3116          Female                      No  \n",
       "10995           Male                      No  \n",
       "115482          Male                     Yes  \n",
       "33762         Female                      No  "
      ]
     },
     "execution_count": 6,
     "metadata": {},
     "output_type": "execute_result"
    }
   ],
   "source": [
    "#Show random samples of the dataset\n",
    "gobike_df.sample(10)"
   ]
  },
  {
   "cell_type": "code",
   "execution_count": 7,
   "metadata": {},
   "outputs": [
    {
     "name": "stdout",
     "output_type": "stream",
     "text": [
      "<class 'pandas.core.frame.DataFrame'>\n",
      "RangeIndex: 183412 entries, 0 to 183411\n",
      "Data columns (total 16 columns):\n",
      " #   Column                   Non-Null Count   Dtype  \n",
      "---  ------                   --------------   -----  \n",
      " 0   duration_sec             183412 non-null  int64  \n",
      " 1   start_time               183412 non-null  object \n",
      " 2   end_time                 183412 non-null  object \n",
      " 3   start_station_id         183215 non-null  float64\n",
      " 4   start_station_name       183215 non-null  object \n",
      " 5   start_station_latitude   183412 non-null  float64\n",
      " 6   start_station_longitude  183412 non-null  float64\n",
      " 7   end_station_id           183215 non-null  float64\n",
      " 8   end_station_name         183215 non-null  object \n",
      " 9   end_station_latitude     183412 non-null  float64\n",
      " 10  end_station_longitude    183412 non-null  float64\n",
      " 11  bike_id                  183412 non-null  int64  \n",
      " 12  user_type                183412 non-null  object \n",
      " 13  member_birth_year        175147 non-null  float64\n",
      " 14  member_gender            175147 non-null  object \n",
      " 15  bike_share_for_all_trip  183412 non-null  object \n",
      "dtypes: float64(7), int64(2), object(7)\n",
      "memory usage: 22.4+ MB\n"
     ]
    }
   ],
   "source": [
    "#Get information on data\n",
    "gobike_df.info()"
   ]
  },
  {
   "cell_type": "code",
   "execution_count": 8,
   "metadata": {},
   "outputs": [
    {
     "data": {
      "text/plain": [
       "(183412, 16)"
      ]
     },
     "execution_count": 8,
     "metadata": {},
     "output_type": "execute_result"
    }
   ],
   "source": [
    "gobike_df.shape"
   ]
  },
  {
   "cell_type": "code",
   "execution_count": 5,
   "metadata": {},
   "outputs": [
    {
     "data": {
      "text/plain": [
       "0"
      ]
     },
     "execution_count": 5,
     "metadata": {},
     "output_type": "execute_result"
    }
   ],
   "source": [
    "gobike_df.duplicated().sum()"
   ]
  },
  {
   "cell_type": "markdown",
   "metadata": {},
   "source": [
    "**Observation**\\\n",
    "The dataset has 183412 entries and 16 attributes with no duplicated entries"
   ]
  },
  {
   "cell_type": "code",
   "execution_count": 9,
   "metadata": {},
   "outputs": [
    {
     "data": {
      "text/plain": [
       "duration_sec                  0\n",
       "start_time                    0\n",
       "end_time                      0\n",
       "start_station_id            197\n",
       "start_station_name          197\n",
       "start_station_latitude        0\n",
       "start_station_longitude       0\n",
       "end_station_id              197\n",
       "end_station_name            197\n",
       "end_station_latitude          0\n",
       "end_station_longitude         0\n",
       "bike_id                       0\n",
       "user_type                     0\n",
       "member_birth_year          8265\n",
       "member_gender              8265\n",
       "bike_share_for_all_trip       0\n",
       "dtype: int64"
      ]
     },
     "execution_count": 9,
     "metadata": {},
     "output_type": "execute_result"
    }
   ],
   "source": [
    "#count the number of null values in each column\n",
    "gobike_df.isnull().sum()"
   ]
  },
  {
   "cell_type": "markdown",
   "metadata": {},
   "source": [
    "### Observaton\n",
    "- `start_station_id`, `start_station_name`,`end_station_id`, `end_station_name` has 197 null values.\n",
    "- `member_birth_year`, `member_gender` has 8265 null values.\n",
    "- `start_time`, `end_time` is an object instead of timestamp datatype.\n",
    "- `start_station_id`,`bike_id` and `end_station_id` is a float instead of object.\n",
    "- `member_gender`, `bike_share_for_all_trip` and `user_type` is an object instead of categorical datatype"
   ]
  },
  {
   "cell_type": "markdown",
   "metadata": {},
   "source": [
    "## Cleaning"
   ]
  },
  {
   "cell_type": "markdown",
   "metadata": {},
   "source": [
    "As listed in the observation above, there are some quality issues that need to be address through cleaning since the dataset is already tidy in my opinion."
   ]
  },
  {
   "cell_type": "code",
   "execution_count": 10,
   "metadata": {},
   "outputs": [],
   "source": [
    "# Save the original data set and save as a new, cleaned version while I clean things up\n",
    "gobike_df_clean = gobike_df.copy()"
   ]
  },
  {
   "cell_type": "markdown",
   "metadata": {},
   "source": [
    "### Quality 1"
   ]
  },
  {
   "cell_type": "markdown",
   "metadata": {},
   "source": [
    "#### Define"
   ]
  },
  {
   "cell_type": "markdown",
   "metadata": {},
   "source": [
    "Change the datatypes of `start_station_id`,`bike_id` and `end_station_id` columns to object."
   ]
  },
  {
   "cell_type": "markdown",
   "metadata": {},
   "source": [
    "#### Code"
   ]
  },
  {
   "cell_type": "code",
   "execution_count": 11,
   "metadata": {},
   "outputs": [],
   "source": [
    "gobike_df_clean.start_station_id=gobike_df_clean.start_station_id.astype('object')\n",
    "gobike_df_clean.end_station_id=gobike_df_clean.end_station_id.astype('object')\n",
    "gobike_df_clean.bike_id=gobike_df_clean.bike_id.astype('object')\n"
   ]
  },
  {
   "cell_type": "markdown",
   "metadata": {},
   "source": [
    "#### Test"
   ]
  },
  {
   "cell_type": "code",
   "execution_count": 177,
   "metadata": {},
   "outputs": [
    {
     "data": {
      "text/plain": [
       "start_station_id    object\n",
       "bike_id             object\n",
       "end_station_id      object\n",
       "dtype: object"
      ]
     },
     "execution_count": 177,
     "metadata": {},
     "output_type": "execute_result"
    }
   ],
   "source": [
    "gobike_df_clean[['start_station_id', 'bike_id', 'end_station_id']].dtypes"
   ]
  },
  {
   "cell_type": "code",
   "execution_count": 153,
   "metadata": {},
   "outputs": [],
   "source": [
    "assert gobike_df_clean.start_station_id.dtypes == 'object'"
   ]
  },
  {
   "cell_type": "markdown",
   "metadata": {},
   "source": [
    "### Quality 2"
   ]
  },
  {
   "cell_type": "markdown",
   "metadata": {},
   "source": [
    "#### Define"
   ]
  },
  {
   "cell_type": "markdown",
   "metadata": {},
   "source": [
    "Change datatypes of `start_time`and  `end_time` columns to timestamp."
   ]
  },
  {
   "cell_type": "markdown",
   "metadata": {},
   "source": [
    "#### Code"
   ]
  },
  {
   "cell_type": "code",
   "execution_count": 12,
   "metadata": {},
   "outputs": [],
   "source": [
    "gobike_df_clean['start_time']=pd.to_datetime(gobike_df_clean['start_time'])\n",
    "gobike_df_clean['end_time']=pd.to_datetime(gobike_df_clean['end_time'])"
   ]
  },
  {
   "cell_type": "markdown",
   "metadata": {},
   "source": [
    "#### Test"
   ]
  },
  {
   "cell_type": "code",
   "execution_count": 76,
   "metadata": {},
   "outputs": [
    {
     "name": "stdout",
     "output_type": "stream",
     "text": [
      "<class 'pandas.core.series.Series'>\n",
      "Int64Index: 175147 entries, 0 to 183411\n",
      "Series name: start_time\n",
      "Non-Null Count   Dtype         \n",
      "--------------   -----         \n",
      "175147 non-null  datetime64[ns]\n",
      "dtypes: datetime64[ns](1)\n",
      "memory usage: 2.7 MB\n"
     ]
    }
   ],
   "source": [
    "gobike_df_clean.start_time.info()"
   ]
  },
  {
   "cell_type": "code",
   "execution_count": 156,
   "metadata": {},
   "outputs": [],
   "source": [
    "assert gobike_df_clean.start_time.dtypes == 'datetime64[ns]'"
   ]
  },
  {
   "cell_type": "markdown",
   "metadata": {},
   "source": [
    "### Quality 3"
   ]
  },
  {
   "cell_type": "markdown",
   "metadata": {},
   "source": [
    "#### Define"
   ]
  },
  {
   "cell_type": "markdown",
   "metadata": {},
   "source": [
    "Change `member_gender`, `bike_share_for_all_trip` and `user_type` datatype to categorical."
   ]
  },
  {
   "cell_type": "markdown",
   "metadata": {},
   "source": [
    "#### Code"
   ]
  },
  {
   "cell_type": "code",
   "execution_count": 13,
   "metadata": {},
   "outputs": [],
   "source": [
    "gobike_df_clean.member_gender=gobike_df_clean.member_gender.astype('category')\n",
    "gobike_df_clean.user_type=gobike_df_clean.user_type.astype('category')\n",
    "gobike_df_clean.bike_share_for_all_trip=gobike_df_clean.bike_share_for_all_trip.astype('category')\n"
   ]
  },
  {
   "cell_type": "markdown",
   "metadata": {},
   "source": [
    "#### Test"
   ]
  },
  {
   "cell_type": "code",
   "execution_count": 158,
   "metadata": {},
   "outputs": [],
   "source": [
    "assert gobike_df_clean.member_gender.dtypes=='category'\n",
    "assert gobike_df_clean.user_type.dtypes=='category'\n",
    "assert gobike_df_clean.bike_share_for_all_trip.dtypes=='category'"
   ]
  },
  {
   "cell_type": "code",
   "execution_count": 159,
   "metadata": {
    "scrolled": false
   },
   "outputs": [
    {
     "data": {
      "text/html": [
       "<div>\n",
       "<style scoped>\n",
       "    .dataframe tbody tr th:only-of-type {\n",
       "        vertical-align: middle;\n",
       "    }\n",
       "\n",
       "    .dataframe tbody tr th {\n",
       "        vertical-align: top;\n",
       "    }\n",
       "\n",
       "    .dataframe thead th {\n",
       "        text-align: right;\n",
       "    }\n",
       "</style>\n",
       "<table border=\"1\" class=\"dataframe\">\n",
       "  <thead>\n",
       "    <tr style=\"text-align: right;\">\n",
       "      <th></th>\n",
       "      <th>duration_sec</th>\n",
       "      <th>start_time</th>\n",
       "      <th>end_time</th>\n",
       "      <th>start_station_id</th>\n",
       "      <th>start_station_name</th>\n",
       "      <th>start_station_latitude</th>\n",
       "      <th>start_station_longitude</th>\n",
       "      <th>end_station_id</th>\n",
       "      <th>end_station_name</th>\n",
       "      <th>end_station_latitude</th>\n",
       "      <th>end_station_longitude</th>\n",
       "      <th>bike_id</th>\n",
       "      <th>user_type</th>\n",
       "      <th>member_birth_year</th>\n",
       "      <th>member_gender</th>\n",
       "      <th>bike_share_for_all_trip</th>\n",
       "    </tr>\n",
       "  </thead>\n",
       "  <tbody>\n",
       "    <tr>\n",
       "      <th>78946</th>\n",
       "      <td>1756</td>\n",
       "      <td>2019-02-18 17:59:09.365</td>\n",
       "      <td>2019-02-18 18:28:26.218</td>\n",
       "      <td>368.0</td>\n",
       "      <td>Myrtle St at Polk St</td>\n",
       "      <td>37.785434</td>\n",
       "      <td>-122.419622</td>\n",
       "      <td>371.0</td>\n",
       "      <td>Lombard St at Columbus Ave</td>\n",
       "      <td>37.802746</td>\n",
       "      <td>-122.413579</td>\n",
       "      <td>6554</td>\n",
       "      <td>Customer</td>\n",
       "      <td>1979.0</td>\n",
       "      <td>Male</td>\n",
       "      <td>No</td>\n",
       "    </tr>\n",
       "    <tr>\n",
       "      <th>96778</th>\n",
       "      <td>546</td>\n",
       "      <td>2019-02-15 09:45:11.663</td>\n",
       "      <td>2019-02-15 09:54:17.882</td>\n",
       "      <td>137.0</td>\n",
       "      <td>Jersey St at Castro St</td>\n",
       "      <td>37.750506</td>\n",
       "      <td>-122.433950</td>\n",
       "      <td>112.0</td>\n",
       "      <td>Harrison St at 17th St</td>\n",
       "      <td>37.763847</td>\n",
       "      <td>-122.413004</td>\n",
       "      <td>6340</td>\n",
       "      <td>Subscriber</td>\n",
       "      <td>1978.0</td>\n",
       "      <td>Other</td>\n",
       "      <td>No</td>\n",
       "    </tr>\n",
       "    <tr>\n",
       "      <th>18541</th>\n",
       "      <td>525</td>\n",
       "      <td>2019-02-26 18:20:51.509</td>\n",
       "      <td>2019-02-26 18:29:36.987</td>\n",
       "      <td>89.0</td>\n",
       "      <td>Division St at Potrero Ave</td>\n",
       "      <td>37.769218</td>\n",
       "      <td>-122.407646</td>\n",
       "      <td>109.0</td>\n",
       "      <td>17th St at Valencia St</td>\n",
       "      <td>37.763316</td>\n",
       "      <td>-122.421904</td>\n",
       "      <td>6537</td>\n",
       "      <td>Subscriber</td>\n",
       "      <td>1990.0</td>\n",
       "      <td>Male</td>\n",
       "      <td>No</td>\n",
       "    </tr>\n",
       "    <tr>\n",
       "      <th>48295</th>\n",
       "      <td>786</td>\n",
       "      <td>2019-02-22 07:52:57.703</td>\n",
       "      <td>2019-02-22 08:06:04.219</td>\n",
       "      <td>160.0</td>\n",
       "      <td>West Oakland BART Station</td>\n",
       "      <td>37.805318</td>\n",
       "      <td>-122.294837</td>\n",
       "      <td>153.0</td>\n",
       "      <td>59th St at Horton St</td>\n",
       "      <td>37.840945</td>\n",
       "      <td>-122.291360</td>\n",
       "      <td>4548</td>\n",
       "      <td>Subscriber</td>\n",
       "      <td>1995.0</td>\n",
       "      <td>Male</td>\n",
       "      <td>No</td>\n",
       "    </tr>\n",
       "    <tr>\n",
       "      <th>23032</th>\n",
       "      <td>92</td>\n",
       "      <td>2019-02-25 22:37:28.959</td>\n",
       "      <td>2019-02-25 22:39:01.708</td>\n",
       "      <td>75.0</td>\n",
       "      <td>Market St at Franklin St</td>\n",
       "      <td>37.773793</td>\n",
       "      <td>-122.421239</td>\n",
       "      <td>58.0</td>\n",
       "      <td>Market St at 10th St</td>\n",
       "      <td>37.776619</td>\n",
       "      <td>-122.417385</td>\n",
       "      <td>6234</td>\n",
       "      <td>Subscriber</td>\n",
       "      <td>1984.0</td>\n",
       "      <td>Male</td>\n",
       "      <td>No</td>\n",
       "    </tr>\n",
       "  </tbody>\n",
       "</table>\n",
       "</div>"
      ],
      "text/plain": [
       "       duration_sec              start_time                end_time  \\\n",
       "78946          1756 2019-02-18 17:59:09.365 2019-02-18 18:28:26.218   \n",
       "96778           546 2019-02-15 09:45:11.663 2019-02-15 09:54:17.882   \n",
       "18541           525 2019-02-26 18:20:51.509 2019-02-26 18:29:36.987   \n",
       "48295           786 2019-02-22 07:52:57.703 2019-02-22 08:06:04.219   \n",
       "23032            92 2019-02-25 22:37:28.959 2019-02-25 22:39:01.708   \n",
       "\n",
       "      start_station_id          start_station_name  start_station_latitude  \\\n",
       "78946            368.0        Myrtle St at Polk St               37.785434   \n",
       "96778            137.0      Jersey St at Castro St               37.750506   \n",
       "18541             89.0  Division St at Potrero Ave               37.769218   \n",
       "48295            160.0   West Oakland BART Station               37.805318   \n",
       "23032             75.0    Market St at Franklin St               37.773793   \n",
       "\n",
       "       start_station_longitude end_station_id            end_station_name  \\\n",
       "78946              -122.419622          371.0  Lombard St at Columbus Ave   \n",
       "96778              -122.433950          112.0      Harrison St at 17th St   \n",
       "18541              -122.407646          109.0      17th St at Valencia St   \n",
       "48295              -122.294837          153.0        59th St at Horton St   \n",
       "23032              -122.421239           58.0        Market St at 10th St   \n",
       "\n",
       "       end_station_latitude  end_station_longitude bike_id   user_type  \\\n",
       "78946             37.802746            -122.413579    6554    Customer   \n",
       "96778             37.763847            -122.413004    6340  Subscriber   \n",
       "18541             37.763316            -122.421904    6537  Subscriber   \n",
       "48295             37.840945            -122.291360    4548  Subscriber   \n",
       "23032             37.776619            -122.417385    6234  Subscriber   \n",
       "\n",
       "       member_birth_year member_gender bike_share_for_all_trip  \n",
       "78946             1979.0          Male                      No  \n",
       "96778             1978.0         Other                      No  \n",
       "18541             1990.0          Male                      No  \n",
       "48295             1995.0          Male                      No  \n",
       "23032             1984.0          Male                      No  "
      ]
     },
     "execution_count": 159,
     "metadata": {},
     "output_type": "execute_result"
    }
   ],
   "source": [
    "gobike_df_clean.sample(5)"
   ]
  },
  {
   "cell_type": "markdown",
   "metadata": {},
   "source": [
    "### Quality 4"
   ]
  },
  {
   "cell_type": "markdown",
   "metadata": {},
   "source": [
    "#### Define"
   ]
  },
  {
   "cell_type": "markdown",
   "metadata": {},
   "source": [
    "Remove NaN in columns`member_birth_year`, `member_gender` has 8265 null values."
   ]
  },
  {
   "cell_type": "markdown",
   "metadata": {},
   "source": [
    "#### Code"
   ]
  },
  {
   "cell_type": "code",
   "execution_count": 14,
   "metadata": {},
   "outputs": [],
   "source": [
    "gobike_df_clean=gobike_df_clean.dropna(subset=['member_birth_year', 'member_gender'])"
   ]
  },
  {
   "cell_type": "markdown",
   "metadata": {},
   "source": [
    "#### Test"
   ]
  },
  {
   "cell_type": "code",
   "execution_count": 75,
   "metadata": {
    "scrolled": true
   },
   "outputs": [
    {
     "data": {
      "text/plain": [
       "0"
      ]
     },
     "execution_count": 75,
     "metadata": {},
     "output_type": "execute_result"
    }
   ],
   "source": [
    "gobike_df_clean.member_birth_year.isnull().sum()"
   ]
  },
  {
   "cell_type": "markdown",
   "metadata": {},
   "source": [
    "### Quality 5"
   ]
  },
  {
   "cell_type": "markdown",
   "metadata": {},
   "source": [
    "#### Define"
   ]
  },
  {
   "cell_type": "markdown",
   "metadata": {},
   "source": [
    "Add a column `member_age ` and use `member_birth_year` to calculate the `member_age` in 2019"
   ]
  },
  {
   "cell_type": "markdown",
   "metadata": {},
   "source": [
    "#### Code"
   ]
  },
  {
   "cell_type": "code",
   "execution_count": 15,
   "metadata": {},
   "outputs": [],
   "source": [
    "gobike_df_clean['member_age']= 2019- gobike_df_clean['member_birth_year']\n",
    "gobike_df_clean['member_age']=gobike_df_clean['member_age'].astype('int')\n",
    "#gobike_df_clean.member_age= gobike_df_clean.member_age.astype('int')"
   ]
  },
  {
   "cell_type": "markdown",
   "metadata": {},
   "source": [
    "#### Test"
   ]
  },
  {
   "cell_type": "code",
   "execution_count": 68,
   "metadata": {
    "scrolled": true
   },
   "outputs": [
    {
     "data": {
      "text/html": [
       "<div>\n",
       "<style scoped>\n",
       "    .dataframe tbody tr th:only-of-type {\n",
       "        vertical-align: middle;\n",
       "    }\n",
       "\n",
       "    .dataframe tbody tr th {\n",
       "        vertical-align: top;\n",
       "    }\n",
       "\n",
       "    .dataframe thead th {\n",
       "        text-align: right;\n",
       "    }\n",
       "</style>\n",
       "<table border=\"1\" class=\"dataframe\">\n",
       "  <thead>\n",
       "    <tr style=\"text-align: right;\">\n",
       "      <th></th>\n",
       "      <th>duration_sec</th>\n",
       "      <th>start_time</th>\n",
       "      <th>end_time</th>\n",
       "      <th>start_station_id</th>\n",
       "      <th>start_station_name</th>\n",
       "      <th>start_station_latitude</th>\n",
       "      <th>start_station_longitude</th>\n",
       "      <th>end_station_id</th>\n",
       "      <th>end_station_name</th>\n",
       "      <th>end_station_latitude</th>\n",
       "      <th>end_station_longitude</th>\n",
       "      <th>bike_id</th>\n",
       "      <th>user_type</th>\n",
       "      <th>member_birth_year</th>\n",
       "      <th>member_gender</th>\n",
       "      <th>bike_share_for_all_trip</th>\n",
       "      <th>member_age</th>\n",
       "    </tr>\n",
       "  </thead>\n",
       "  <tbody>\n",
       "    <tr>\n",
       "      <th>128156</th>\n",
       "      <td>983</td>\n",
       "      <td>2019-02-10 13:47:22.6910</td>\n",
       "      <td>2019-02-10 14:03:46.0010</td>\n",
       "      <td>24.0</td>\n",
       "      <td>Spear St at Folsom St</td>\n",
       "      <td>37.789677</td>\n",
       "      <td>-122.390428</td>\n",
       "      <td>90.0</td>\n",
       "      <td>Townsend St at 7th St</td>\n",
       "      <td>37.771058</td>\n",
       "      <td>-122.402717</td>\n",
       "      <td>4794</td>\n",
       "      <td>Subscriber</td>\n",
       "      <td>1974.0</td>\n",
       "      <td>Female</td>\n",
       "      <td>Yes</td>\n",
       "      <td>45.0</td>\n",
       "    </tr>\n",
       "    <tr>\n",
       "      <th>179365</th>\n",
       "      <td>168</td>\n",
       "      <td>2019-02-01 14:12:55.7960</td>\n",
       "      <td>2019-02-01 14:15:44.1900</td>\n",
       "      <td>324.0</td>\n",
       "      <td>Union Square (Powell St at Post St)</td>\n",
       "      <td>37.788300</td>\n",
       "      <td>-122.408531</td>\n",
       "      <td>21.0</td>\n",
       "      <td>Montgomery St BART Station (Market St at 2nd St)</td>\n",
       "      <td>37.789625</td>\n",
       "      <td>-122.400811</td>\n",
       "      <td>4794</td>\n",
       "      <td>Subscriber</td>\n",
       "      <td>1988.0</td>\n",
       "      <td>Male</td>\n",
       "      <td>No</td>\n",
       "      <td>31.0</td>\n",
       "    </tr>\n",
       "    <tr>\n",
       "      <th>12004</th>\n",
       "      <td>367</td>\n",
       "      <td>2019-02-27 18:03:28.6540</td>\n",
       "      <td>2019-02-27 18:09:36.0130</td>\n",
       "      <td>198.0</td>\n",
       "      <td>Snow Park</td>\n",
       "      <td>37.807813</td>\n",
       "      <td>-122.264496</td>\n",
       "      <td>186.0</td>\n",
       "      <td>Lakeside Dr at 14th St</td>\n",
       "      <td>37.801319</td>\n",
       "      <td>-122.262642</td>\n",
       "      <td>3417</td>\n",
       "      <td>Subscriber</td>\n",
       "      <td>1954.0</td>\n",
       "      <td>Male</td>\n",
       "      <td>No</td>\n",
       "      <td>65.0</td>\n",
       "    </tr>\n",
       "    <tr>\n",
       "      <th>161878</th>\n",
       "      <td>425</td>\n",
       "      <td>2019-02-05 13:27:20.2900</td>\n",
       "      <td>2019-02-05 13:34:26.0400</td>\n",
       "      <td>14.0</td>\n",
       "      <td>Clay St at Battery St</td>\n",
       "      <td>37.795001</td>\n",
       "      <td>-122.399970</td>\n",
       "      <td>8.0</td>\n",
       "      <td>The Embarcadero at Vallejo St</td>\n",
       "      <td>37.799953</td>\n",
       "      <td>-122.398525</td>\n",
       "      <td>4625</td>\n",
       "      <td>Subscriber</td>\n",
       "      <td>1982.0</td>\n",
       "      <td>Female</td>\n",
       "      <td>No</td>\n",
       "      <td>37.0</td>\n",
       "    </tr>\n",
       "    <tr>\n",
       "      <th>83191</th>\n",
       "      <td>676</td>\n",
       "      <td>2019-02-18 07:44:45.8570</td>\n",
       "      <td>2019-02-18 07:56:02.5430</td>\n",
       "      <td>76.0</td>\n",
       "      <td>McCoppin St at Valencia St</td>\n",
       "      <td>37.771662</td>\n",
       "      <td>-122.422423</td>\n",
       "      <td>67.0</td>\n",
       "      <td>San Francisco Caltrain Station 2  (Townsend St...</td>\n",
       "      <td>37.776639</td>\n",
       "      <td>-122.395526</td>\n",
       "      <td>5213</td>\n",
       "      <td>Subscriber</td>\n",
       "      <td>1996.0</td>\n",
       "      <td>Female</td>\n",
       "      <td>No</td>\n",
       "      <td>23.0</td>\n",
       "    </tr>\n",
       "  </tbody>\n",
       "</table>\n",
       "</div>"
      ],
      "text/plain": [
       "        duration_sec                start_time                  end_time  \\\n",
       "128156           983  2019-02-10 13:47:22.6910  2019-02-10 14:03:46.0010   \n",
       "179365           168  2019-02-01 14:12:55.7960  2019-02-01 14:15:44.1900   \n",
       "12004            367  2019-02-27 18:03:28.6540  2019-02-27 18:09:36.0130   \n",
       "161878           425  2019-02-05 13:27:20.2900  2019-02-05 13:34:26.0400   \n",
       "83191            676  2019-02-18 07:44:45.8570  2019-02-18 07:56:02.5430   \n",
       "\n",
       "        start_station_id                   start_station_name  \\\n",
       "128156              24.0                Spear St at Folsom St   \n",
       "179365             324.0  Union Square (Powell St at Post St)   \n",
       "12004              198.0                            Snow Park   \n",
       "161878              14.0                Clay St at Battery St   \n",
       "83191               76.0           McCoppin St at Valencia St   \n",
       "\n",
       "        start_station_latitude  start_station_longitude  end_station_id  \\\n",
       "128156               37.789677              -122.390428            90.0   \n",
       "179365               37.788300              -122.408531            21.0   \n",
       "12004                37.807813              -122.264496           186.0   \n",
       "161878               37.795001              -122.399970             8.0   \n",
       "83191                37.771662              -122.422423            67.0   \n",
       "\n",
       "                                         end_station_name  \\\n",
       "128156                              Townsend St at 7th St   \n",
       "179365   Montgomery St BART Station (Market St at 2nd St)   \n",
       "12004                              Lakeside Dr at 14th St   \n",
       "161878                      The Embarcadero at Vallejo St   \n",
       "83191   San Francisco Caltrain Station 2  (Townsend St...   \n",
       "\n",
       "        end_station_latitude  end_station_longitude  bike_id   user_type  \\\n",
       "128156             37.771058            -122.402717     4794  Subscriber   \n",
       "179365             37.789625            -122.400811     4794  Subscriber   \n",
       "12004              37.801319            -122.262642     3417  Subscriber   \n",
       "161878             37.799953            -122.398525     4625  Subscriber   \n",
       "83191              37.776639            -122.395526     5213  Subscriber   \n",
       "\n",
       "        member_birth_year member_gender bike_share_for_all_trip  member_age  \n",
       "128156             1974.0        Female                     Yes        45.0  \n",
       "179365             1988.0          Male                      No        31.0  \n",
       "12004              1954.0          Male                      No        65.0  \n",
       "161878             1982.0        Female                      No        37.0  \n",
       "83191              1996.0        Female                      No        23.0  "
      ]
     },
     "execution_count": 68,
     "metadata": {},
     "output_type": "execute_result"
    }
   ],
   "source": [
    "gobike_df_clean.sample(5)"
   ]
  },
  {
   "cell_type": "code",
   "execution_count": 12,
   "metadata": {},
   "outputs": [
    {
     "data": {
      "text/plain": [
       "0"
      ]
     },
     "execution_count": 12,
     "metadata": {},
     "output_type": "execute_result"
    }
   ],
   "source": [
    "gobike_df_clean['member_age'].isnull().sum()"
   ]
  },
  {
   "cell_type": "code",
   "execution_count": 70,
   "metadata": {
    "scrolled": true
   },
   "outputs": [
    {
     "data": {
      "text/plain": [
       "count    175147.000000\n",
       "mean         34.193563\n",
       "std          10.116689\n",
       "min          18.000000\n",
       "25%          27.000000\n",
       "50%          32.000000\n",
       "75%          39.000000\n",
       "max         141.000000\n",
       "Name: member_age, dtype: float64"
      ]
     },
     "execution_count": 70,
     "metadata": {},
     "output_type": "execute_result"
    }
   ],
   "source": [
    "gobike_df_clean.member_age.describe()"
   ]
  },
  {
   "cell_type": "markdown",
   "metadata": {},
   "source": [
    "### Quality 6"
   ]
  },
  {
   "cell_type": "markdown",
   "metadata": {},
   "source": [
    "#### Define"
   ]
  },
  {
   "cell_type": "markdown",
   "metadata": {},
   "source": [
    "Create a column for `start_dayofweek`, `start_hour`(day of the week)"
   ]
  },
  {
   "cell_type": "markdown",
   "metadata": {},
   "source": [
    "#### Code"
   ]
  },
  {
   "cell_type": "code",
   "execution_count": 74,
   "metadata": {},
   "outputs": [],
   "source": [
    "#gobike_df_clean.info()"
   ]
  },
  {
   "cell_type": "code",
   "execution_count": 16,
   "metadata": {},
   "outputs": [],
   "source": [
    "# Creating column for start time day of week\n",
    "gobike_df_clean['start_dayofweek']=gobike_df_clean['start_time'].dt.strftime('%a')\n",
    "#gobike_df_clean['start_weekday']=gobike_df_clean['start_time'].dt.weekday"
   ]
  },
  {
   "cell_type": "code",
   "execution_count": 17,
   "metadata": {},
   "outputs": [],
   "source": [
    "# Creating column for start time day of week\n",
    "gobike_df_clean['start_hour']=gobike_df_clean['start_time'].dt.hour"
   ]
  },
  {
   "cell_type": "markdown",
   "metadata": {},
   "source": [
    "#### Test"
   ]
  },
  {
   "cell_type": "code",
   "execution_count": 79,
   "metadata": {
    "scrolled": true
   },
   "outputs": [
    {
     "data": {
      "text/html": [
       "<div>\n",
       "<style scoped>\n",
       "    .dataframe tbody tr th:only-of-type {\n",
       "        vertical-align: middle;\n",
       "    }\n",
       "\n",
       "    .dataframe tbody tr th {\n",
       "        vertical-align: top;\n",
       "    }\n",
       "\n",
       "    .dataframe thead th {\n",
       "        text-align: right;\n",
       "    }\n",
       "</style>\n",
       "<table border=\"1\" class=\"dataframe\">\n",
       "  <thead>\n",
       "    <tr style=\"text-align: right;\">\n",
       "      <th></th>\n",
       "      <th>duration_sec</th>\n",
       "      <th>start_time</th>\n",
       "      <th>end_time</th>\n",
       "      <th>start_station_id</th>\n",
       "      <th>start_station_name</th>\n",
       "      <th>start_station_latitude</th>\n",
       "      <th>start_station_longitude</th>\n",
       "      <th>end_station_id</th>\n",
       "      <th>end_station_name</th>\n",
       "      <th>end_station_latitude</th>\n",
       "      <th>end_station_longitude</th>\n",
       "      <th>bike_id</th>\n",
       "      <th>user_type</th>\n",
       "      <th>member_birth_year</th>\n",
       "      <th>member_gender</th>\n",
       "      <th>bike_share_for_all_trip</th>\n",
       "      <th>member_age</th>\n",
       "      <th>start_dayofweek</th>\n",
       "      <th>start_hour</th>\n",
       "    </tr>\n",
       "  </thead>\n",
       "  <tbody>\n",
       "    <tr>\n",
       "      <th>0</th>\n",
       "      <td>52185</td>\n",
       "      <td>2019-02-28 17:32:10.145</td>\n",
       "      <td>2019-03-01 08:01:55.975</td>\n",
       "      <td>21.0</td>\n",
       "      <td>Montgomery St BART Station (Market St at 2nd St)</td>\n",
       "      <td>37.789625</td>\n",
       "      <td>-122.400811</td>\n",
       "      <td>13.0</td>\n",
       "      <td>Commercial St at Montgomery St</td>\n",
       "      <td>37.794231</td>\n",
       "      <td>-122.402923</td>\n",
       "      <td>4902</td>\n",
       "      <td>Customer</td>\n",
       "      <td>1984.0</td>\n",
       "      <td>Male</td>\n",
       "      <td>No</td>\n",
       "      <td>35.0</td>\n",
       "      <td>Thu</td>\n",
       "      <td>17</td>\n",
       "    </tr>\n",
       "    <tr>\n",
       "      <th>2</th>\n",
       "      <td>61854</td>\n",
       "      <td>2019-02-28 12:13:13.218</td>\n",
       "      <td>2019-03-01 05:24:08.146</td>\n",
       "      <td>86.0</td>\n",
       "      <td>Market St at Dolores St</td>\n",
       "      <td>37.769305</td>\n",
       "      <td>-122.426826</td>\n",
       "      <td>3.0</td>\n",
       "      <td>Powell St BART Station (Market St at 4th St)</td>\n",
       "      <td>37.786375</td>\n",
       "      <td>-122.404904</td>\n",
       "      <td>5905</td>\n",
       "      <td>Customer</td>\n",
       "      <td>1972.0</td>\n",
       "      <td>Male</td>\n",
       "      <td>No</td>\n",
       "      <td>47.0</td>\n",
       "      <td>Thu</td>\n",
       "      <td>12</td>\n",
       "    </tr>\n",
       "    <tr>\n",
       "      <th>3</th>\n",
       "      <td>36490</td>\n",
       "      <td>2019-02-28 17:54:26.010</td>\n",
       "      <td>2019-03-01 04:02:36.842</td>\n",
       "      <td>375.0</td>\n",
       "      <td>Grove St at Masonic Ave</td>\n",
       "      <td>37.774836</td>\n",
       "      <td>-122.446546</td>\n",
       "      <td>70.0</td>\n",
       "      <td>Central Ave at Fell St</td>\n",
       "      <td>37.773311</td>\n",
       "      <td>-122.444293</td>\n",
       "      <td>6638</td>\n",
       "      <td>Subscriber</td>\n",
       "      <td>1989.0</td>\n",
       "      <td>Other</td>\n",
       "      <td>No</td>\n",
       "      <td>30.0</td>\n",
       "      <td>Thu</td>\n",
       "      <td>17</td>\n",
       "    </tr>\n",
       "    <tr>\n",
       "      <th>4</th>\n",
       "      <td>1585</td>\n",
       "      <td>2019-02-28 23:54:18.549</td>\n",
       "      <td>2019-03-01 00:20:44.074</td>\n",
       "      <td>7.0</td>\n",
       "      <td>Frank H Ogawa Plaza</td>\n",
       "      <td>37.804562</td>\n",
       "      <td>-122.271738</td>\n",
       "      <td>222.0</td>\n",
       "      <td>10th Ave at E 15th St</td>\n",
       "      <td>37.792714</td>\n",
       "      <td>-122.248780</td>\n",
       "      <td>4898</td>\n",
       "      <td>Subscriber</td>\n",
       "      <td>1974.0</td>\n",
       "      <td>Male</td>\n",
       "      <td>Yes</td>\n",
       "      <td>45.0</td>\n",
       "      <td>Thu</td>\n",
       "      <td>23</td>\n",
       "    </tr>\n",
       "    <tr>\n",
       "      <th>5</th>\n",
       "      <td>1793</td>\n",
       "      <td>2019-02-28 23:49:58.632</td>\n",
       "      <td>2019-03-01 00:19:51.760</td>\n",
       "      <td>93.0</td>\n",
       "      <td>4th St at Mission Bay Blvd S</td>\n",
       "      <td>37.770407</td>\n",
       "      <td>-122.391198</td>\n",
       "      <td>323.0</td>\n",
       "      <td>Broadway at Kearny</td>\n",
       "      <td>37.798014</td>\n",
       "      <td>-122.405950</td>\n",
       "      <td>5200</td>\n",
       "      <td>Subscriber</td>\n",
       "      <td>1959.0</td>\n",
       "      <td>Male</td>\n",
       "      <td>No</td>\n",
       "      <td>60.0</td>\n",
       "      <td>Thu</td>\n",
       "      <td>23</td>\n",
       "    </tr>\n",
       "    <tr>\n",
       "      <th>6</th>\n",
       "      <td>1147</td>\n",
       "      <td>2019-02-28 23:55:35.104</td>\n",
       "      <td>2019-03-01 00:14:42.588</td>\n",
       "      <td>300.0</td>\n",
       "      <td>Palm St at Willow St</td>\n",
       "      <td>37.317298</td>\n",
       "      <td>-121.884995</td>\n",
       "      <td>312.0</td>\n",
       "      <td>San Jose Diridon Station</td>\n",
       "      <td>37.329732</td>\n",
       "      <td>-121.901782</td>\n",
       "      <td>3803</td>\n",
       "      <td>Subscriber</td>\n",
       "      <td>1983.0</td>\n",
       "      <td>Female</td>\n",
       "      <td>No</td>\n",
       "      <td>36.0</td>\n",
       "      <td>Thu</td>\n",
       "      <td>23</td>\n",
       "    </tr>\n",
       "    <tr>\n",
       "      <th>7</th>\n",
       "      <td>1615</td>\n",
       "      <td>2019-02-28 23:41:06.766</td>\n",
       "      <td>2019-03-01 00:08:02.756</td>\n",
       "      <td>10.0</td>\n",
       "      <td>Washington St at Kearny St</td>\n",
       "      <td>37.795393</td>\n",
       "      <td>-122.404770</td>\n",
       "      <td>127.0</td>\n",
       "      <td>Valencia St at 21st St</td>\n",
       "      <td>37.756708</td>\n",
       "      <td>-122.421025</td>\n",
       "      <td>6329</td>\n",
       "      <td>Subscriber</td>\n",
       "      <td>1989.0</td>\n",
       "      <td>Male</td>\n",
       "      <td>No</td>\n",
       "      <td>30.0</td>\n",
       "      <td>Thu</td>\n",
       "      <td>23</td>\n",
       "    </tr>\n",
       "    <tr>\n",
       "      <th>8</th>\n",
       "      <td>1570</td>\n",
       "      <td>2019-02-28 23:41:48.790</td>\n",
       "      <td>2019-03-01 00:07:59.715</td>\n",
       "      <td>10.0</td>\n",
       "      <td>Washington St at Kearny St</td>\n",
       "      <td>37.795393</td>\n",
       "      <td>-122.404770</td>\n",
       "      <td>127.0</td>\n",
       "      <td>Valencia St at 21st St</td>\n",
       "      <td>37.756708</td>\n",
       "      <td>-122.421025</td>\n",
       "      <td>6548</td>\n",
       "      <td>Subscriber</td>\n",
       "      <td>1988.0</td>\n",
       "      <td>Other</td>\n",
       "      <td>No</td>\n",
       "      <td>31.0</td>\n",
       "      <td>Thu</td>\n",
       "      <td>23</td>\n",
       "    </tr>\n",
       "    <tr>\n",
       "      <th>9</th>\n",
       "      <td>1049</td>\n",
       "      <td>2019-02-28 23:49:47.699</td>\n",
       "      <td>2019-03-01 00:07:17.025</td>\n",
       "      <td>19.0</td>\n",
       "      <td>Post St at Kearny St</td>\n",
       "      <td>37.788975</td>\n",
       "      <td>-122.403452</td>\n",
       "      <td>121.0</td>\n",
       "      <td>Mission Playground</td>\n",
       "      <td>37.759210</td>\n",
       "      <td>-122.421339</td>\n",
       "      <td>6488</td>\n",
       "      <td>Subscriber</td>\n",
       "      <td>1992.0</td>\n",
       "      <td>Male</td>\n",
       "      <td>No</td>\n",
       "      <td>27.0</td>\n",
       "      <td>Thu</td>\n",
       "      <td>23</td>\n",
       "    </tr>\n",
       "    <tr>\n",
       "      <th>10</th>\n",
       "      <td>458</td>\n",
       "      <td>2019-02-28 23:57:57.211</td>\n",
       "      <td>2019-03-01 00:05:35.435</td>\n",
       "      <td>370.0</td>\n",
       "      <td>Jones St at Post St</td>\n",
       "      <td>37.787327</td>\n",
       "      <td>-122.413278</td>\n",
       "      <td>43.0</td>\n",
       "      <td>San Francisco Public Library (Grove St at Hyde...</td>\n",
       "      <td>37.778768</td>\n",
       "      <td>-122.415929</td>\n",
       "      <td>5318</td>\n",
       "      <td>Subscriber</td>\n",
       "      <td>1996.0</td>\n",
       "      <td>Female</td>\n",
       "      <td>Yes</td>\n",
       "      <td>23.0</td>\n",
       "      <td>Thu</td>\n",
       "      <td>23</td>\n",
       "    </tr>\n",
       "  </tbody>\n",
       "</table>\n",
       "</div>"
      ],
      "text/plain": [
       "    duration_sec              start_time                end_time  \\\n",
       "0          52185 2019-02-28 17:32:10.145 2019-03-01 08:01:55.975   \n",
       "2          61854 2019-02-28 12:13:13.218 2019-03-01 05:24:08.146   \n",
       "3          36490 2019-02-28 17:54:26.010 2019-03-01 04:02:36.842   \n",
       "4           1585 2019-02-28 23:54:18.549 2019-03-01 00:20:44.074   \n",
       "5           1793 2019-02-28 23:49:58.632 2019-03-01 00:19:51.760   \n",
       "6           1147 2019-02-28 23:55:35.104 2019-03-01 00:14:42.588   \n",
       "7           1615 2019-02-28 23:41:06.766 2019-03-01 00:08:02.756   \n",
       "8           1570 2019-02-28 23:41:48.790 2019-03-01 00:07:59.715   \n",
       "9           1049 2019-02-28 23:49:47.699 2019-03-01 00:07:17.025   \n",
       "10           458 2019-02-28 23:57:57.211 2019-03-01 00:05:35.435   \n",
       "\n",
       "    start_station_id                                start_station_name  \\\n",
       "0               21.0  Montgomery St BART Station (Market St at 2nd St)   \n",
       "2               86.0                           Market St at Dolores St   \n",
       "3              375.0                           Grove St at Masonic Ave   \n",
       "4                7.0                               Frank H Ogawa Plaza   \n",
       "5               93.0                      4th St at Mission Bay Blvd S   \n",
       "6              300.0                              Palm St at Willow St   \n",
       "7               10.0                        Washington St at Kearny St   \n",
       "8               10.0                        Washington St at Kearny St   \n",
       "9               19.0                              Post St at Kearny St   \n",
       "10             370.0                               Jones St at Post St   \n",
       "\n",
       "    start_station_latitude  start_station_longitude  end_station_id  \\\n",
       "0                37.789625              -122.400811            13.0   \n",
       "2                37.769305              -122.426826             3.0   \n",
       "3                37.774836              -122.446546            70.0   \n",
       "4                37.804562              -122.271738           222.0   \n",
       "5                37.770407              -122.391198           323.0   \n",
       "6                37.317298              -121.884995           312.0   \n",
       "7                37.795393              -122.404770           127.0   \n",
       "8                37.795393              -122.404770           127.0   \n",
       "9                37.788975              -122.403452           121.0   \n",
       "10               37.787327              -122.413278            43.0   \n",
       "\n",
       "                                     end_station_name  end_station_latitude  \\\n",
       "0                      Commercial St at Montgomery St             37.794231   \n",
       "2        Powell St BART Station (Market St at 4th St)             37.786375   \n",
       "3                              Central Ave at Fell St             37.773311   \n",
       "4                               10th Ave at E 15th St             37.792714   \n",
       "5                                  Broadway at Kearny             37.798014   \n",
       "6                            San Jose Diridon Station             37.329732   \n",
       "7                              Valencia St at 21st St             37.756708   \n",
       "8                              Valencia St at 21st St             37.756708   \n",
       "9                                  Mission Playground             37.759210   \n",
       "10  San Francisco Public Library (Grove St at Hyde...             37.778768   \n",
       "\n",
       "    end_station_longitude  bike_id   user_type  member_birth_year  \\\n",
       "0             -122.402923     4902    Customer             1984.0   \n",
       "2             -122.404904     5905    Customer             1972.0   \n",
       "3             -122.444293     6638  Subscriber             1989.0   \n",
       "4             -122.248780     4898  Subscriber             1974.0   \n",
       "5             -122.405950     5200  Subscriber             1959.0   \n",
       "6             -121.901782     3803  Subscriber             1983.0   \n",
       "7             -122.421025     6329  Subscriber             1989.0   \n",
       "8             -122.421025     6548  Subscriber             1988.0   \n",
       "9             -122.421339     6488  Subscriber             1992.0   \n",
       "10            -122.415929     5318  Subscriber             1996.0   \n",
       "\n",
       "   member_gender bike_share_for_all_trip  member_age start_dayofweek  \\\n",
       "0           Male                      No        35.0             Thu   \n",
       "2           Male                      No        47.0             Thu   \n",
       "3          Other                      No        30.0             Thu   \n",
       "4           Male                     Yes        45.0             Thu   \n",
       "5           Male                      No        60.0             Thu   \n",
       "6         Female                      No        36.0             Thu   \n",
       "7           Male                      No        30.0             Thu   \n",
       "8          Other                      No        31.0             Thu   \n",
       "9           Male                      No        27.0             Thu   \n",
       "10        Female                     Yes        23.0             Thu   \n",
       "\n",
       "    start_hour  \n",
       "0           17  \n",
       "2           12  \n",
       "3           17  \n",
       "4           23  \n",
       "5           23  \n",
       "6           23  \n",
       "7           23  \n",
       "8           23  \n",
       "9           23  \n",
       "10          23  "
      ]
     },
     "execution_count": 79,
     "metadata": {},
     "output_type": "execute_result"
    }
   ],
   "source": [
    "gobike_df_clean.head(10)"
   ]
  },
  {
   "cell_type": "markdown",
   "metadata": {},
   "source": [
    "### Quality 7"
   ]
  },
  {
   "cell_type": "markdown",
   "metadata": {},
   "source": [
    "#### Define"
   ]
  },
  {
   "cell_type": "markdown",
   "metadata": {},
   "source": [
    "Create a column for duration in minutes."
   ]
  },
  {
   "cell_type": "markdown",
   "metadata": {},
   "source": [
    "#### Code"
   ]
  },
  {
   "cell_type": "code",
   "execution_count": 18,
   "metadata": {},
   "outputs": [],
   "source": [
    "gobike_df_clean['duration_min']=gobike_df_clean['duration_sec']/60\n"
   ]
  },
  {
   "cell_type": "markdown",
   "metadata": {},
   "source": [
    "#### Test"
   ]
  },
  {
   "cell_type": "code",
   "execution_count": 200,
   "metadata": {
    "scrolled": true
   },
   "outputs": [
    {
     "data": {
      "text/html": [
       "<div>\n",
       "<style scoped>\n",
       "    .dataframe tbody tr th:only-of-type {\n",
       "        vertical-align: middle;\n",
       "    }\n",
       "\n",
       "    .dataframe tbody tr th {\n",
       "        vertical-align: top;\n",
       "    }\n",
       "\n",
       "    .dataframe thead th {\n",
       "        text-align: right;\n",
       "    }\n",
       "</style>\n",
       "<table border=\"1\" class=\"dataframe\">\n",
       "  <thead>\n",
       "    <tr style=\"text-align: right;\">\n",
       "      <th></th>\n",
       "      <th>duration_sec</th>\n",
       "      <th>start_time</th>\n",
       "      <th>end_time</th>\n",
       "      <th>start_station_id</th>\n",
       "      <th>start_station_name</th>\n",
       "      <th>start_station_latitude</th>\n",
       "      <th>start_station_longitude</th>\n",
       "      <th>end_station_id</th>\n",
       "      <th>end_station_name</th>\n",
       "      <th>end_station_latitude</th>\n",
       "      <th>end_station_longitude</th>\n",
       "      <th>bike_id</th>\n",
       "      <th>user_type</th>\n",
       "      <th>member_birth_year</th>\n",
       "      <th>member_gender</th>\n",
       "      <th>bike_share_for_all_trip</th>\n",
       "      <th>member_age</th>\n",
       "      <th>start_dayofweek</th>\n",
       "      <th>start_hour</th>\n",
       "      <th>duration_min</th>\n",
       "    </tr>\n",
       "  </thead>\n",
       "  <tbody>\n",
       "    <tr>\n",
       "      <th>177421</th>\n",
       "      <td>496</td>\n",
       "      <td>2019-02-01 22:08:37.077</td>\n",
       "      <td>2019-02-01 22:16:54.054</td>\n",
       "      <td>160.0</td>\n",
       "      <td>West Oakland BART Station</td>\n",
       "      <td>37.805318</td>\n",
       "      <td>-122.294837</td>\n",
       "      <td>219.0</td>\n",
       "      <td>Marston Campbell Park</td>\n",
       "      <td>37.809824</td>\n",
       "      <td>-122.280192</td>\n",
       "      <td>2236</td>\n",
       "      <td>Subscriber</td>\n",
       "      <td>1975.0</td>\n",
       "      <td>Female</td>\n",
       "      <td>No</td>\n",
       "      <td>44.0</td>\n",
       "      <td>Fri</td>\n",
       "      <td>22</td>\n",
       "      <td>8.266667</td>\n",
       "    </tr>\n",
       "    <tr>\n",
       "      <th>6369</th>\n",
       "      <td>465</td>\n",
       "      <td>2019-02-28 10:24:09.265</td>\n",
       "      <td>2019-02-28 10:31:55.226</td>\n",
       "      <td>58.0</td>\n",
       "      <td>Market St at 10th St</td>\n",
       "      <td>37.776619</td>\n",
       "      <td>-122.417385</td>\n",
       "      <td>109.0</td>\n",
       "      <td>17th St at Valencia St</td>\n",
       "      <td>37.763316</td>\n",
       "      <td>-122.421904</td>\n",
       "      <td>281</td>\n",
       "      <td>Subscriber</td>\n",
       "      <td>1998.0</td>\n",
       "      <td>Male</td>\n",
       "      <td>No</td>\n",
       "      <td>21.0</td>\n",
       "      <td>Thu</td>\n",
       "      <td>10</td>\n",
       "      <td>7.750000</td>\n",
       "    </tr>\n",
       "    <tr>\n",
       "      <th>1029</th>\n",
       "      <td>260</td>\n",
       "      <td>2019-02-28 19:54:33.569</td>\n",
       "      <td>2019-02-28 19:58:54.010</td>\n",
       "      <td>238.0</td>\n",
       "      <td>MLK Jr Way at University Ave</td>\n",
       "      <td>37.871719</td>\n",
       "      <td>-122.273068</td>\n",
       "      <td>251.0</td>\n",
       "      <td>California St at University Ave</td>\n",
       "      <td>37.870555</td>\n",
       "      <td>-122.279720</td>\n",
       "      <td>5865</td>\n",
       "      <td>Subscriber</td>\n",
       "      <td>1991.0</td>\n",
       "      <td>Male</td>\n",
       "      <td>No</td>\n",
       "      <td>28.0</td>\n",
       "      <td>Thu</td>\n",
       "      <td>19</td>\n",
       "      <td>4.333333</td>\n",
       "    </tr>\n",
       "    <tr>\n",
       "      <th>20844</th>\n",
       "      <td>476</td>\n",
       "      <td>2019-02-26 10:21:36.268</td>\n",
       "      <td>2019-02-26 10:29:33.194</td>\n",
       "      <td>368.0</td>\n",
       "      <td>Myrtle St at Polk St</td>\n",
       "      <td>37.785434</td>\n",
       "      <td>-122.419622</td>\n",
       "      <td>88.0</td>\n",
       "      <td>11th St at Bryant St</td>\n",
       "      <td>37.770030</td>\n",
       "      <td>-122.411726</td>\n",
       "      <td>4831</td>\n",
       "      <td>Subscriber</td>\n",
       "      <td>1993.0</td>\n",
       "      <td>Female</td>\n",
       "      <td>No</td>\n",
       "      <td>26.0</td>\n",
       "      <td>Tue</td>\n",
       "      <td>10</td>\n",
       "      <td>7.933333</td>\n",
       "    </tr>\n",
       "    <tr>\n",
       "      <th>86407</th>\n",
       "      <td>2392</td>\n",
       "      <td>2019-02-17 12:21:13.743</td>\n",
       "      <td>2019-02-17 13:01:05.931</td>\n",
       "      <td>58.0</td>\n",
       "      <td>Market St at 10th St</td>\n",
       "      <td>37.776619</td>\n",
       "      <td>-122.417385</td>\n",
       "      <td>8.0</td>\n",
       "      <td>The Embarcadero at Vallejo St</td>\n",
       "      <td>37.799953</td>\n",
       "      <td>-122.398525</td>\n",
       "      <td>5969</td>\n",
       "      <td>Subscriber</td>\n",
       "      <td>2000.0</td>\n",
       "      <td>Male</td>\n",
       "      <td>No</td>\n",
       "      <td>19.0</td>\n",
       "      <td>Sun</td>\n",
       "      <td>12</td>\n",
       "      <td>39.866667</td>\n",
       "    </tr>\n",
       "  </tbody>\n",
       "</table>\n",
       "</div>"
      ],
      "text/plain": [
       "        duration_sec              start_time                end_time  \\\n",
       "177421           496 2019-02-01 22:08:37.077 2019-02-01 22:16:54.054   \n",
       "6369             465 2019-02-28 10:24:09.265 2019-02-28 10:31:55.226   \n",
       "1029             260 2019-02-28 19:54:33.569 2019-02-28 19:58:54.010   \n",
       "20844            476 2019-02-26 10:21:36.268 2019-02-26 10:29:33.194   \n",
       "86407           2392 2019-02-17 12:21:13.743 2019-02-17 13:01:05.931   \n",
       "\n",
       "       start_station_id            start_station_name  start_station_latitude  \\\n",
       "177421            160.0     West Oakland BART Station               37.805318   \n",
       "6369               58.0          Market St at 10th St               37.776619   \n",
       "1029              238.0  MLK Jr Way at University Ave               37.871719   \n",
       "20844             368.0          Myrtle St at Polk St               37.785434   \n",
       "86407              58.0          Market St at 10th St               37.776619   \n",
       "\n",
       "        start_station_longitude end_station_id  \\\n",
       "177421              -122.294837          219.0   \n",
       "6369                -122.417385          109.0   \n",
       "1029                -122.273068          251.0   \n",
       "20844               -122.419622           88.0   \n",
       "86407               -122.417385            8.0   \n",
       "\n",
       "                       end_station_name  end_station_latitude  \\\n",
       "177421            Marston Campbell Park             37.809824   \n",
       "6369             17th St at Valencia St             37.763316   \n",
       "1029    California St at University Ave             37.870555   \n",
       "20844              11th St at Bryant St             37.770030   \n",
       "86407     The Embarcadero at Vallejo St             37.799953   \n",
       "\n",
       "        end_station_longitude bike_id   user_type  member_birth_year  \\\n",
       "177421            -122.280192    2236  Subscriber             1975.0   \n",
       "6369              -122.421904     281  Subscriber             1998.0   \n",
       "1029              -122.279720    5865  Subscriber             1991.0   \n",
       "20844             -122.411726    4831  Subscriber             1993.0   \n",
       "86407             -122.398525    5969  Subscriber             2000.0   \n",
       "\n",
       "       member_gender bike_share_for_all_trip  member_age start_dayofweek  \\\n",
       "177421        Female                      No        44.0             Fri   \n",
       "6369            Male                      No        21.0             Thu   \n",
       "1029            Male                      No        28.0             Thu   \n",
       "20844         Female                      No        26.0             Tue   \n",
       "86407           Male                      No        19.0             Sun   \n",
       "\n",
       "        start_hour  duration_min  \n",
       "177421          22      8.266667  \n",
       "6369            10      7.750000  \n",
       "1029            19      4.333333  \n",
       "20844           10      7.933333  \n",
       "86407           12     39.866667  "
      ]
     },
     "execution_count": 200,
     "metadata": {},
     "output_type": "execute_result"
    }
   ],
   "source": [
    "gobike_df_clean.sample(5)"
   ]
  },
  {
   "cell_type": "markdown",
   "metadata": {},
   "source": [
    "Save clean dataset to csv file `gobike_master`"
   ]
  },
  {
   "cell_type": "code",
   "execution_count": 64,
   "metadata": {},
   "outputs": [],
   "source": [
    "gobike_df_clean.to_csv('gobike_master.csv', index= False)"
   ]
  },
  {
   "cell_type": "markdown",
   "metadata": {},
   "source": [
    "### What is the structure of your dataset?\n",
    "\n",
    "> The FordGobike dataset which was collected efficiently and effectively and provides relevant features which is pretty easy to understand.\n",
    "The dataset which contains approximately 183400 bike riders infomation uses data collected in different location in the San Francisco Bay area of California in the month February 2019.\\\\\n",
    "\n",
    " The following important features were provided in the dataset to help with visualization and draw meaningful conclusion:\n",
    "- Trip duration (seconds)\n",
    "- Start Date and time\n",
    "- End Date and time\n",
    "- User type (Subscriber/Customer)\n",
    "- Members birth year\n",
    "- Member gender\n",
    "- Bike id\n",
    "- bike share for all trip\n",
    "\n",
    "### What is/are the main feature(s) of interest in your dataset?\n",
    "\n",
    "> The main features of interest in the dataset are;\n",
    "\n",
    "- The trip duration in seconds of the rider - This may help to determine if the Gobikes are in high demand or low demand, hence make decision whether of not to supply more bikes.\n",
    "- User type bike trips - Whether a biker is a subscriber or customer will help determine if they are more likely to ride frequently. This is to help make a business decision of getting more riders to subscribe or not \n",
    "\n",
    "\n",
    "### What features in the dataset do you think will help support your investigation into your feature(s) of interest?\n",
    "\n",
    "\n",
    "\n",
    "> The following features in the dataset may help to support my investigation into the bikers trip duration and bike share for all trip.\n",
    "\n",
    "- start_time- Day of week and hours are extracted for further investigation.\n",
    "- member_birth_year - member age is derived and investigated to see the relationship between member age and bike durations. The age distribution of bikers gives an insight on which age group should be targetes in marketing campaigns.\n",
    "- member_gender - gender is investigated to see the relationship between gender and bike durations.\n",
    "- user_type - Investigate the relationship between user type(subscriber or customer) and bike share for all trips\n",
    "\n",
    "\n",
    "\n"
   ]
  },
  {
   "cell_type": "markdown",
   "metadata": {},
   "source": [
    "## Univariate Exploration\n",
    "\n",
    "> In this section, distributions of individual variables will be investigate. Unusual points or outliers will be cleaned up to prepare for relationships between variables.\n",
    "\n",
    " The project will contain at least 15 visualizations distributed over univariate, bivariate, and multivariate plots to explore many relationships in the data set.  Use reasoning to justify the flow of the exploration.\n",
    "\n",
    "This exploration framework involves **asking a question from the data, creating a visualization to find answers, and then recording observations after each visualisation.** \n"
   ]
  },
  {
   "cell_type": "markdown",
   "metadata": {},
   "source": [
    "### Duration Minutes Visualization\n",
    "\n",
    "**What type distribution is the trip duration? Normal or Uniform?** \\\n",
    "**What is the average trip duration?**"
   ]
  },
  {
   "cell_type": "code",
   "execution_count": 19,
   "metadata": {
    "scrolled": true
   },
   "outputs": [
    {
     "data": {
      "text/plain": [
       "count    175147.000000\n",
       "mean         11.736864\n",
       "std          27.360139\n",
       "min           1.016667\n",
       "25%           5.383333\n",
       "50%           8.500000\n",
       "75%          13.150000\n",
       "max        1409.133333\n",
       "Name: duration_min, dtype: float64"
      ]
     },
     "execution_count": 19,
     "metadata": {},
     "output_type": "execute_result"
    }
   ],
   "source": [
    "gobike_df_clean.duration_min.describe()"
   ]
  },
  {
   "cell_type": "code",
   "execution_count": 25,
   "metadata": {},
   "outputs": [],
   "source": [
    "# Define function for plot labels and title to avoid repetition\n",
    "def x_y_t(xL,yL,title):\n",
    "    plt.title(title,y=1.05, fontsize=12, fontweight='bold')\n",
    "    plt.xlabel(xL)\n",
    "    plt.ylabel(yL)\n",
    "base_color=sb.color_palette()[2]"
   ]
  },
  {
   "cell_type": "code",
   "execution_count": 26,
   "metadata": {
    "scrolled": true
   },
   "outputs": [
    {
     "data": {
      "image/png": "[encoded data removed]",
      "text/plain": [
       "<Figure size 432x288 with 1 Axes>"
      ]
     },
     "metadata": {
      "needs_background": "light"
     },
     "output_type": "display_data"
    }
   ],
   "source": [
    "bins=np.arange(0,gobike_df_clean['duration_min'].max()+5,5)\n",
    "\n",
    "plt.hist(data=gobike_df_clean, x='duration_min',bins=bins);\n",
    "plt.xlim(0, 100)\n",
    "x_y_t('Duration (min)',\"Number of bike trips\",'Ford GoBike System Trip Duration in Minutes')\n",
    "\n",
    "#plt.xticks(rotation=90);"
   ]
  },
  {
   "cell_type": "markdown",
   "metadata": {},
   "source": [
    "**Observation**\\\n",
    "From observation, using the above bins as scale, it looks like the feature `duration_mins` is not normally distributed. Therefore, I will use a log scale to see if it give a clear and easy interpretation."
   ]
  },
  {
   "cell_type": "code",
   "execution_count": 30,
   "metadata": {
    "scrolled": true
   },
   "outputs": [
    {
     "data": {
      "text/plain": [
       "count    5.243403\n",
       "mean     1.069552\n",
       "std      1.437118\n",
       "min      0.007179\n",
       "25%      0.731051\n",
       "50%      0.929419\n",
       "75%      1.118926\n",
       "max      3.148952\n",
       "Name: duration_min, dtype: float64"
      ]
     },
     "execution_count": 30,
     "metadata": {},
     "output_type": "execute_result"
    }
   ],
   "source": [
    "# Transform the describe() to a scale of log10\n",
    "np.log10(gobike_df_clean.duration_min.describe())"
   ]
  },
  {
   "cell_type": "code",
   "execution_count": 27,
   "metadata": {},
   "outputs": [
    {
     "data": {
      "image/png": "[encoded data removed]",
      "text/plain": [
       "<Figure size 432x288 with 1 Axes>"
      ]
     },
     "metadata": {
      "needs_background": "light"
     },
     "output_type": "display_data"
    }
   ],
   "source": [
    "#Axis transformation\n",
    "\n",
    "#Set log binsize to 0.03\n",
    "bins= 10**np.arange(0,3+0.04,0.04)\n",
    "plt.hist(data=gobike_df_clean,x='duration_min', bins=bins);\n",
    "plt.xscale('log');\n",
    "plt.xticks([1, 2, 5, 10, 20, 50, 100, 200, 500, 1000], [1, 2, 5, 10, 20, 50, 100, 200, 500, 1000]);\n",
    "x_y_t('Duration (min)',\"Number of bike trips\",'Ford GoBike System Trip Duration in Minutes')\n",
    "\n",
    "    "
   ]
  },
  {
   "cell_type": "markdown",
   "metadata": {},
   "source": [
    "**Obeservation**\n",
    "After using a log scale transformation, the above distribution looks more like a normal distribution. The mean, mode and median is approximately 10 minutes with 64% of number of bike trip within 1 standard deviation of the mean. \n",
    "However, the right tail is longer so I will drop duration minutes greater than 100 to get rid of the long tail."
   ]
  },
  {
   "cell_type": "code",
   "execution_count": 32,
   "metadata": {},
   "outputs": [
    {
     "name": "stdout",
     "output_type": "stream",
     "text": [
      "<class 'pandas.core.frame.DataFrame'>\n",
      "Int64Index: 174442 entries, 4 to 183411\n",
      "Data columns (total 19 columns):\n",
      " #   Column                   Non-Null Count   Dtype         \n",
      "---  ------                   --------------   -----         \n",
      " 0   duration_sec             174442 non-null  int64         \n",
      " 1   start_time               174442 non-null  datetime64[ns]\n",
      " 2   end_time                 174442 non-null  datetime64[ns]\n",
      " 3   start_station_id         174249 non-null  object        \n",
      " 4   start_station_name       174249 non-null  object        \n",
      " 5   start_station_latitude   174442 non-null  float64       \n",
      " 6   start_station_longitude  174442 non-null  float64       \n",
      " 7   end_station_id           174249 non-null  object        \n",
      " 8   end_station_name         174249 non-null  object        \n",
      " 9   end_station_latitude     174442 non-null  float64       \n",
      " 10  end_station_longitude    174442 non-null  float64       \n",
      " 11  bike_id                  174442 non-null  object        \n",
      " 12  user_type                174442 non-null  category      \n",
      " 13  member_birth_year        174442 non-null  float64       \n",
      " 14  member_gender            174442 non-null  category      \n",
      " 15  bike_share_for_all_trip  174442 non-null  category      \n",
      " 16  member_age               174442 non-null  float64       \n",
      " 17  start_dayofweek          174442 non-null  object        \n",
      " 18  duration_min             174442 non-null  float64       \n",
      "dtypes: category(3), datetime64[ns](2), float64(7), int64(1), object(6)\n",
      "memory usage: 23.1+ MB\n"
     ]
    }
   ],
   "source": [
    "# Leave record with duration_min < 100 min\n",
    "gobike_df_clean = gobike_df_clean[gobike_df_clean['duration_min'] <= 100]\n",
    "gobike_df_clean.info()"
   ]
  },
  {
   "cell_type": "markdown",
   "metadata": {},
   "source": [
    "### Gender Visualization\n",
    "\n",
    "**Which gender rides the Gobikes the most?**"
   ]
  },
  {
   "cell_type": "code",
   "execution_count": 34,
   "metadata": {},
   "outputs": [
    {
     "data": {
      "text/plain": [
       "Male      130189\n",
       "Female     40643\n",
       "Other       3610\n",
       "Name: member_gender, dtype: int64"
      ]
     },
     "execution_count": 34,
     "metadata": {},
     "output_type": "execute_result"
    }
   ],
   "source": [
    "gender_counts=gobike_df_clean.member_gender.value_counts()\n",
    "gender_counts"
   ]
  },
  {
   "cell_type": "code",
   "execution_count": 93,
   "metadata": {},
   "outputs": [
    {
     "data": {
      "text/plain": [
       "Text(0.5, 1.0, 'Proportion of Gender Usage')"
      ]
     },
     "execution_count": 93,
     "metadata": {},
     "output_type": "execute_result"
    },
    {
     "data": {
      "image/png": "[encoded data removed]",
      "text/plain": [
       "<Figure size 720x360 with 1 Axes>"
      ]
     },
     "metadata": {},
     "output_type": "display_data"
    }
   ],
   "source": [
    "#Bar Plot of the gender\n",
    "plt.figure(figsize = [10, 5])\n",
    "plt.pie(gender_counts,labels = gender_counts.index, autopct='%1.1f%%', startangle = 90, counterclock = False);\n",
    "plt.title('Proportion of Gender Usage')"
   ]
  },
  {
   "cell_type": "code",
   "execution_count": 28,
   "metadata": {
    "scrolled": true
   },
   "outputs": [
    {
     "data": {
      "image/png": "[encoded data removed]",
      "text/plain": [
       "<Figure size 432x288 with 1 Axes>"
      ]
     },
     "metadata": {
      "needs_background": "light"
     },
     "output_type": "display_data"
    }
   ],
   "source": [
    "# Choose the first tuple of RGB colors\n",
    "base_color = sb.color_palette()[0]\n",
    "#Bar Plot of the gender\n",
    "sb.countplot(data=gobike_df_clean, x='member_gender',color=base_color)\n",
    "x_y_t('Gender',\"Number of bike trips\",'Ford GoBike System Gender Usage')"
   ]
  },
  {
   "cell_type": "markdown",
   "metadata": {},
   "source": [
    "**Observation**\\\n",
    "About 74% of total bikers are male, and 23% are female. Other genders constitute about 2% of the total bikers."
   ]
  },
  {
   "cell_type": "markdown",
   "metadata": {},
   "source": [
    "### Age Visualization\n",
    "**Which age rides the Gobikes the most?**"
   ]
  },
  {
   "cell_type": "markdown",
   "metadata": {},
   "source": [
    "Use box plot to check for outliers"
   ]
  },
  {
   "cell_type": "code",
   "execution_count": 37,
   "metadata": {},
   "outputs": [
    {
     "data": {
      "text/plain": [
       "count    174442.000000\n",
       "mean         34.188791\n",
       "std          10.115860\n",
       "min          18.000000\n",
       "25%          27.000000\n",
       "50%          32.000000\n",
       "75%          39.000000\n",
       "max         141.000000\n",
       "Name: member_age, dtype: float64"
      ]
     },
     "execution_count": 37,
     "metadata": {},
     "output_type": "execute_result"
    }
   ],
   "source": [
    "gobike_df_clean['member_age'].describe()"
   ]
  },
  {
   "cell_type": "code",
   "execution_count": 80,
   "metadata": {},
   "outputs": [
    {
     "data": {
      "image/png": "[encoded data removed]",
      "text/plain": [
       "<Figure size 1152x360 with 2 Axes>"
      ]
     },
     "metadata": {
      "needs_background": "light"
     },
     "output_type": "display_data"
    }
   ],
   "source": [
    "plt.figure(figsize = [16, 5])\n",
    "#Box plot of age\n",
    "plt.subplot(1, 2, 1)\n",
    "sb.boxplot(data=gobike_df_clean, y='member_age')\n",
    "\n",
    "plt.title('Age Distribution Boxplot')\n",
    "plt.ylabel(\"Age\");\n",
    "#Violin plot of age\n",
    "plt.subplot(1, 2, 2)\n",
    "sb.violinplot(data=gobike_df_clean, y='member_age',inner='quartile')\n",
    "plt.title('Age Distribution Violinplot')\n",
    "plt.ylabel(\"Age\");"
   ]
  },
  {
   "cell_type": "markdown",
   "metadata": {},
   "source": [
    "**Observation**\\\n",
    "There some few outliers that needs to be removed. I will go ahead and drop all ages above 60"
   ]
  },
  {
   "cell_type": "code",
   "execution_count": 30,
   "metadata": {},
   "outputs": [],
   "source": [
    "gobike_df_clean=gobike_df_clean[gobike_df_clean['member_age'] <= 60]"
   ]
  },
  {
   "cell_type": "code",
   "execution_count": 31,
   "metadata": {},
   "outputs": [
    {
     "data": {
      "image/png": "[encoded data removed]",
      "text/plain": [
       "<Figure size 1152x360 with 2 Axes>"
      ]
     },
     "metadata": {
      "needs_background": "light"
     },
     "output_type": "display_data"
    }
   ],
   "source": [
    "plt.figure(figsize = [16, 5])\n",
    "#Hist plot of age\n",
    "plt.subplot(1, 2, 1)\n",
    "bins = np.arange(18, gobike_df_clean['member_age'].max()+2, 2)\n",
    "plt.hist(data = gobike_df_clean, x = 'member_age', bins = bins);\n",
    "x_y_t('Age',\"Number of bike trips\",'Ford GoBike System Age Distribution Histogram')\n",
    "\n",
    "#Violin plot of age\n",
    "plt.subplot(1, 2, 2)\n",
    "sb.violinplot(data=gobike_df_clean, y='member_age')\n",
    "plt.title('Age Distribution Violinplot',y=1.05, fontsize=12, fontweight='bold')\n",
    "\n",
    "plt.ylabel(\"Age\");"
   ]
  },
  {
   "cell_type": "markdown",
   "metadata": {},
   "source": [
    "**Observation**\\\n",
    "As we can see from the figure above, most bike riders happen to be around the age of 30 with very few bikers above the age 45."
   ]
  },
  {
   "cell_type": "markdown",
   "metadata": {},
   "source": [
    "### Start Hour Visualization\n",
    "\n",
    "**What time do users ride the Gobikes the most?**"
   ]
  },
  {
   "cell_type": "code",
   "execution_count": 88,
   "metadata": {},
   "outputs": [
    {
     "data": {
      "image/png": "[encoded data removed]",
      "text/plain": [
       "<Figure size 720x360 with 1 Axes>"
      ]
     },
     "metadata": {
      "needs_background": "light"
     },
     "output_type": "display_data"
    }
   ],
   "source": [
    "plt.figure(figsize = [10, 5])\n",
    "sb.countplot(data=gobike_df_clean, x='start_hour',color=base_color)\n",
    "plt.title('Start hour Distribution Bar chart',y=1.05, fontsize=12, fontweight='bold')\n",
    "plt.xlabel(\"Start hour\");\n",
    "plt.ylabel(\"Number of bike trips\");"
   ]
  },
  {
   "cell_type": "markdown",
   "metadata": {},
   "source": [
    "**Observation**\\\n",
    "Most bikers patronize the Ford Gobikes around 8 AM and 5 PM. "
   ]
  },
  {
   "cell_type": "markdown",
   "metadata": {},
   "source": [
    "### Start Day of Week Visualization\n",
    "**How many trips occur in a week?"
   ]
  },
  {
   "cell_type": "code",
   "execution_count": 32,
   "metadata": {
    "scrolled": true
   },
   "outputs": [
    {
     "data": {
      "image/png": "[encoded data removed]",
      "text/plain": [
       "<Figure size 720x360 with 1 Axes>"
      ]
     },
     "metadata": {
      "needs_background": "light"
     },
     "output_type": "display_data"
    }
   ],
   "source": [
    "plt.figure(figsize = [10, 5])\n",
    "sb.countplot(data=gobike_df_clean, x='start_dayofweek',color=base_color)\n",
    "x_y_t('Day of Week',\"Number of bike trips\",'Ford GoBike System Start Day of Week Distribution Bar chart')\n"
   ]
  },
  {
   "cell_type": "markdown",
   "metadata": {},
   "source": [
    "**Observation**\\\n",
    "Thursday records the most bike riders with Saturday and Sunday the lowest."
   ]
  },
  {
   "cell_type": "markdown",
   "metadata": {},
   "source": [
    "### User type Visualization\n",
    "**Which user type takes more trips?**"
   ]
  },
  {
   "cell_type": "code",
   "execution_count": 33,
   "metadata": {
    "scrolled": false
   },
   "outputs": [
    {
     "data": {
      "image/png": "[encoded data removed]",
      "text/plain": [
       "<Figure size 432x288 with 1 Axes>"
      ]
     },
     "metadata": {
      "needs_background": "light"
     },
     "output_type": "display_data"
    }
   ],
   "source": [
    "sb.countplot(data=gobike_df_clean, x='user_type',color=base_color)\n",
    "x_y_t('User type',\"Number of bike trips\",'Ford GoBike System User Type Distribution')\n"
   ]
  },
  {
   "cell_type": "code",
   "execution_count": 34,
   "metadata": {},
   "outputs": [
    {
     "data": {
      "text/plain": [
       "Subscriber    155180\n",
       "Customer       16437\n",
       "Name: user_type, dtype: int64"
      ]
     },
     "execution_count": 34,
     "metadata": {},
     "output_type": "execute_result"
    }
   ],
   "source": [
    "user_type_counts=gobike_df_clean.user_type.value_counts()\n",
    "user_type_counts"
   ]
  },
  {
   "cell_type": "code",
   "execution_count": 35,
   "metadata": {},
   "outputs": [
    {
     "data": {
      "text/plain": [
       "Text(0.5, 1.05, 'Proportion of User type')"
      ]
     },
     "execution_count": 35,
     "metadata": {},
     "output_type": "execute_result"
    },
    {
     "data": {
      "image/png": "[encoded data removed]",
      "text/plain": [
       "<Figure size 720x360 with 1 Axes>"
      ]
     },
     "metadata": {},
     "output_type": "display_data"
    }
   ],
   "source": [
    "plt.figure(figsize = [10, 5])\n",
    "plt.pie(user_type_counts,labels = user_type_counts.index, autopct='%1.1f%%', startangle = 90, counterclock = False);\n",
    "plt.title('Proportion of User type',y=1.05, fontsize=12, fontweight='bold')\n"
   ]
  },
  {
   "cell_type": "markdown",
   "metadata": {},
   "source": [
    "**Observation**\\\n",
    "There are way more subscriber than Customer. About 90% of users are subscribers with monthly subscription."
   ]
  },
  {
   "cell_type": "markdown",
   "metadata": {},
   "source": [
    "### Bike share trip for all Visualization\n",
    "**How many bike share for all trips are taken?**"
   ]
  },
  {
   "cell_type": "code",
   "execution_count": 36,
   "metadata": {},
   "outputs": [
    {
     "data": {
      "image/png": "[encoded data removed]",
      "text/plain": [
       "<Figure size 432x288 with 1 Axes>"
      ]
     },
     "metadata": {
      "needs_background": "light"
     },
     "output_type": "display_data"
    }
   ],
   "source": [
    "sb.countplot(data=gobike_df_clean, x='bike_share_for_all_trip',color=base_color)\n",
    "x_y_t('Bike Share for all trip',\"Number of bike trips\",'Ford GoBike System Bike Share for all trip Distribution')"
   ]
  },
  {
   "cell_type": "markdown",
   "metadata": {},
   "source": [
    "**Observation**\\\n",
    "Most riders do not user the bike share for all thier trip."
   ]
  },
  {
   "cell_type": "markdown",
   "metadata": {},
   "source": [
    "### Discuss the distribution(s) of your variable(s) of interest. Were there any unusual points? Did you need to perform any transformations?\n",
    "\n",
    "> During my visualization, I used the box plot to check for outlier in the member age attribute and I found out there were some unusual member age above the age of 60 which had to be dropped.\n",
    "\n",
    "### Of the features you investigated, were there any unusual distributions? Did you perform any operations on the data to tidy, adjust, or change the form of the data? If so, why did you do this?\n",
    "\n",
    "> Also after using a log scale transformation to plot the duration in minutes, the distribution looks more like a normal distribution. However, the right tail is longer so I will drop duration minutes greater than 100 to get rid of the long tail."
   ]
  },
  {
   "cell_type": "markdown",
   "metadata": {},
   "source": [
    "## Bivariate Exploration\n",
    "\n",
    "> In this section, relationships between pairs of variables in the\n",
    "dataset will be investigate."
   ]
  },
  {
   "cell_type": "markdown",
   "metadata": {},
   "source": [
    "### Subscriber and Customer usage by Age\n",
    "**Which user type by age takes more bike trips?**"
   ]
  },
  {
   "cell_type": "code",
   "execution_count": 99,
   "metadata": {
    "scrolled": false
   },
   "outputs": [
    {
     "data": {
      "image/png": "[encoded data removed]",
      "text/plain": [
       "<Figure size 1440x360 with 2 Axes>"
      ]
     },
     "metadata": {
      "needs_background": "light"
     },
     "output_type": "display_data"
    }
   ],
   "source": [
    "# Customer Usage by Duration vs. Subscriber Usage by Age\n",
    "\n",
    "graph = sb.catplot(data=gobike_df_clean, x = 'member_age', col='user_type', kind='count', sharey = False, color = base_color, height=5, aspect=2);\n",
    "\n",
    "graph.set_axis_labels('Age', 'Number of Bike Trips')\n",
    "graph.set_titles('{col_name}')\n",
    "\n",
    "graph.fig.suptitle('Ford GoBike System - Customers vs. Subscribers Age Per Number of Bike Trips', y=1.05, fontsize=16, fontweight='bold');\n",
    "graph.set_xticklabels(rotation=90);"
   ]
  },
  {
   "cell_type": "code",
   "execution_count": 103,
   "metadata": {},
   "outputs": [
    {
     "data": {
      "text/plain": [
       "<AxesSubplot:xlabel='user_type', ylabel='member_age'>"
      ]
     },
     "execution_count": 103,
     "metadata": {},
     "output_type": "execute_result"
    },
    {
     "data": {
      "image/png": "[encoded data removed]",
      "text/plain": [
       "<Figure size 432x288 with 1 Axes>"
      ]
     },
     "metadata": {
      "needs_background": "light"
     },
     "output_type": "display_data"
    }
   ],
   "source": [
    "#Box plot\n",
    "sb.boxplot(data=gobike_df_clean, x='user_type', y='member_age', color=base_color)"
   ]
  },
  {
   "cell_type": "markdown",
   "metadata": {},
   "source": [
    "**Observation**\\\n",
    "Subscribers of age 31 records the highest number of bike trips whereas customers of age 30 records the highes number of bike trips."
   ]
  },
  {
   "cell_type": "markdown",
   "metadata": {},
   "source": [
    "### Subscriber and Customer usage by day of the week\n",
    "**Which user type takes more trips in a week?"
   ]
  },
  {
   "cell_type": "code",
   "execution_count": 101,
   "metadata": {
    "scrolled": true
   },
   "outputs": [
    {
     "data": {
      "image/png": "[encoded data removed]",
      "text/plain": [
       "<Figure size 720x360 with 2 Axes>"
      ]
     },
     "metadata": {
      "needs_background": "light"
     },
     "output_type": "display_data"
    }
   ],
   "source": [
    "# Customer Usage by Weekday vs. Subscriber Usage by Weekday\n",
    "weekday = ['Mon', 'Tue', 'Wed', 'Thu', 'Fri', 'Sat', 'Sun']\n",
    "graph=sb.catplot(data = gobike_df_clean, x = 'start_dayofweek', col = 'user_type',kind='count',color=base_color,order = weekday);\n",
    "graph.set_axis_labels(\"Day of Week\", \"Number of Bike Trips\");\n",
    "graph.set_titles(\"{col_name}\");\n",
    "graph.fig.suptitle('Ford GoBike System - Customers vs. Subscribers Daily Usage', y=1.05, fontsize=12, fontweight='bold');\n"
   ]
  },
  {
   "cell_type": "code",
   "execution_count": 37,
   "metadata": {
    "scrolled": true
   },
   "outputs": [
    {
     "data": {
      "image/png": "[encoded data removed]",
      "text/plain": [
       "<Figure size 864x360 with 1 Axes>"
      ]
     },
     "metadata": {
      "needs_background": "light"
     },
     "output_type": "display_data"
    }
   ],
   "source": [
    "# Customer Usage by Weekday vs. Subscriber Usage by Weekday\n",
    "plt.figure(figsize=(12, 5))\n",
    "\n",
    "df_cleaned_user_week = gobike_df_clean.groupby(['start_dayofweek', 'user_type']).size().reset_index()\n",
    "weekday = ['Mon', 'Tue', 'Wed', 'Thu', 'Fri', 'Sat', 'Sun']\n",
    "\n",
    "graph = sb.pointplot(data=df_cleaned_user_week, x='start_dayofweek', y=0, hue = 'user_type', scale=.7, order = weekday);\n",
    "x_y_t('Day of Week',\"Number of bike trips\",'Ford GoBike System Bike - Customers vs. Subscribers Daily Usage')\n",
    "plt.grid()"
   ]
  },
  {
   "cell_type": "markdown",
   "metadata": {},
   "source": [
    "**Observation**\\\n",
    "Most bikers are subscribers i.e members who have monthly subscription hence the high number of bike trips in the week. Whereas, customers who pay per trip records low number of bike trips in a week.\n",
    "Subscribers happen to use the bike share system during the weekday with a decline on the weekend."
   ]
  },
  {
   "cell_type": "markdown",
   "metadata": {},
   "source": [
    "### Subscriber and Customer usage by start time hour\n",
    "**What time of the day are most trips taken by users?**"
   ]
  },
  {
   "cell_type": "code",
   "execution_count": 103,
   "metadata": {},
   "outputs": [
    {
     "data": {
      "image/png": "[encoded data removed]",
      "text/plain": [
       "<Figure size 1440x360 with 2 Axes>"
      ]
     },
     "metadata": {
      "needs_background": "light"
     },
     "output_type": "display_data"
    }
   ],
   "source": [
    "# Customer Usage by Weekday vs. Subscriber Usage by start time hour\n",
    "\n",
    "graph = sb.catplot(data=gobike_df_clean, x = 'start_hour', col='user_type', kind='count', sharey = False, color = base_color, height=5, aspect=2);\n",
    "\n",
    "graph.set_axis_labels('Start Hour', 'Number of Bike Trips')\n",
    "graph.set_titles('{col_name}')\n",
    "\n",
    "graph.fig.suptitle('Ford GoBike System - Customers vs. Subscribers Usage Per Start hour', y=1.05, fontsize=16, fontweight='bold');\n",
    "graph.set_xticklabels(rotation=90);"
   ]
  },
  {
   "cell_type": "markdown",
   "metadata": {},
   "source": [
    "**Observation**\\\n",
    "Both subscribers and customers happen to use the share bike more 8 AM and 5 PM. Subscribers number of bike trips is bimodal at 8 AM and 5 PM, whereas customers number of bike trips is unimodal at 5 PM."
   ]
  },
  {
   "cell_type": "code",
   "execution_count": null,
   "metadata": {},
   "outputs": [],
   "source": []
  },
  {
   "cell_type": "markdown",
   "metadata": {},
   "source": [
    "### Subscriber and Customer usage by duration\n",
    "**How long does users take riding the Gobikes?"
   ]
  },
  {
   "cell_type": "code",
   "execution_count": 56,
   "metadata": {
    "scrolled": true
   },
   "outputs": [
    {
     "data": {
      "image/png": "[encoded data removed]",
      "text/plain": [
       "<Figure size 1440x360 with 2 Axes>"
      ]
     },
     "metadata": {
      "needs_background": "light"
     },
     "output_type": "display_data"
    }
   ],
   "source": [
    "gobike_df_clean['duration_min_int'] = gobike_df_clean['duration_min'].astype(int)\n",
    "data = gobike_df_clean.query('duration_min_int < 40')\n",
    "\n",
    "graph = sb.catplot(data=data, x = 'duration_min_int', col='user_type', kind='count', sharey = False, color = base_color, height=5, aspect=2);\n",
    "\n",
    "graph.set_axis_labels('Duration (Min)', 'Number of Bike Trips')\n",
    "graph.set_titles('{col_name}')\n",
    "\n",
    "graph.fig.suptitle('Ford GoBike System - Customers vs. Subscribers Ride Duration (Min)', y=1.05, fontsize=16, fontweight='bold');\n",
    "graph.set_xticklabels(rotation=75);"
   ]
  },
  {
   "cell_type": "code",
   "execution_count": 57,
   "metadata": {},
   "outputs": [
    {
     "data": {
      "text/plain": [
       "<AxesSubplot:xlabel='user_type', ylabel='duration_min'>"
      ]
     },
     "execution_count": 57,
     "metadata": {},
     "output_type": "execute_result"
    },
    {
     "data": {
      "image/png": "[encoded data removed]",
      "text/plain": [
       "<Figure size 432x288 with 1 Axes>"
      ]
     },
     "metadata": {
      "needs_background": "light"
     },
     "output_type": "display_data"
    }
   ],
   "source": [
    "ndata = gobike_df_clean.query('duration_min < 30')\n",
    "sb.boxplot(data=ndata, x='user_type', y='duration_min', color=base_color)"
   ]
  },
  {
   "cell_type": "markdown",
   "metadata": {},
   "source": [
    "**Observation**\\\n",
    "From observation, subscribers duration of trip are usually between 4 and 11 minutes according to the box plot, whereas customers duration of trip are usually between 7 to 17 minutes according to the box plot. This can probably be explained by the fact that subscribers mainly use the Ford Gobikes to commute to work or school rather than longer trips or pleasure around the Bay Area."
   ]
  },
  {
   "cell_type": "markdown",
   "metadata": {},
   "source": [
    "### Talk about some of the relationships you observed in this part of the investigation. How did the feature(s) of interest vary with other features in the dataset?\n",
    "\n",
    "> Finding the relationship between user type and other features of the dataset revealed different usage between subscribers and customers. According to the data customers are usually casual riders such as tourists etc. This is explained by the total number of bike trips and duration of trip by consumers as compared to that of subscribers.  Also, it appears that the bikes are normally rented at 8 AM and 5 PM that is before and after work or school.\n",
    "\n",
    "### Did you observe any interesting relationships between the other features (not the main feature(s) of interest)?\n",
    "\n",
    "> Duration of trip is usually different between customers and subscribers with subscribers trips usually shorter than that of customers. This may be due to the fact subscribers use the share bike system mainly for commute to and from work or school whereas customers use the share bike system for longer trips around the surrounding area to tour or for pleasure."
   ]
  },
  {
   "cell_type": "markdown",
   "metadata": {},
   "source": [
    "## Multivariate Exploration\n",
    "\n",
    "> In this section, three or more variables plots will be created to investigate the dataset even\n",
    "further."
   ]
  },
  {
   "cell_type": "markdown",
   "metadata": {},
   "source": [
    "### Daily usage by user type and gender\n",
    "**Which gender user takes more trips in a week?**"
   ]
  },
  {
   "cell_type": "code",
   "execution_count": 109,
   "metadata": {
    "scrolled": false
   },
   "outputs": [
    {
     "data": {
      "image/png": "[encoded data removed]",
      "text/plain": [
       "<Figure size 1530.38x360 with 2 Axes>"
      ]
     },
     "metadata": {
      "needs_background": "light"
     },
     "output_type": "display_data"
    }
   ],
   "source": [
    "# Monthly usage - user type and gender\n",
    "weekday = ['Mon', 'Tue', 'Wed', 'Thu', 'Fri', 'Sat', 'Sun']\n",
    "\n",
    "graph = sb.catplot(data=gobike_df_clean, x='start_dayofweek', col=\"user_type\", hue=\"member_gender\",order=weekday, kind='count', sharey = False, height=5, aspect=2);\n",
    "\n",
    "graph.set_axis_labels(\"Day of the week\", \"Number of Bike Trips\")\n",
    "graph._legend.set_title('Gender')\n",
    "graph.set_titles(\"{col_name}\")\n",
    "\n",
    "graph.fig.suptitle('Ford GoBike System - Daily Usage Per User Type and Gender', y=1.05, fontsize=16, fontweight='bold');\n",
    "graph.set_xticklabels(rotation=75);"
   ]
  },
  {
   "cell_type": "markdown",
   "metadata": {},
   "source": [
    "### Number of bike trips by gender and user type Visualization\n",
    "**Which gender user type takes more trips?**"
   ]
  },
  {
   "cell_type": "code",
   "execution_count": 38,
   "metadata": {},
   "outputs": [
    {
     "data": {
      "image/png": "[encoded data removed]",
      "text/plain": [
       "<Figure size 1080x576 with 1 Axes>"
      ]
     },
     "metadata": {
      "needs_background": "light"
     },
     "output_type": "display_data"
    }
   ],
   "source": [
    "\n",
    "plt.figure(figsize = [15, 8])\n",
    "\n",
    "# code for the bar chart\n",
    "\n",
    "graph = sb.countplot(data=gobike_df_clean, x=\"user_type\", hue=\"member_gender\", order=gobike_df_clean.user_type.value_counts().index)\n",
    "x_y_t('User Type',\"Number of bike trips\",'Ford GoBike System Bike - Customers vs. Subscribers Gender Usage')\n"
   ]
  },
  {
   "cell_type": "markdown",
   "metadata": {},
   "source": [
    "**Observation**\\\n",
    "In general it appears that both male subscribers and customers take more bike trips than female and other genders. However, the ratio between male and female subscribers(approximatelly 3:1) is bigger than that of customers(approximately 2:1)."
   ]
  },
  {
   "cell_type": "markdown",
   "metadata": {},
   "source": [
    "### Trip duration by gender and user type Visualization\n",
    "**Which gender user type takes longer trips?**"
   ]
  },
  {
   "cell_type": "code",
   "execution_count": 109,
   "metadata": {
    "scrolled": true
   },
   "outputs": [
    {
     "data": {
      "image/png": "[encoded data removed]",
      "text/plain": [
       "<Figure size 810.375x360 with 1 Axes>"
      ]
     },
     "metadata": {
      "needs_background": "light"
     },
     "output_type": "display_data"
    }
   ],
   "source": [
    "# Bar Chart- duration (min) per user type and gender\n",
    "\n",
    "graph = sb.catplot(data=data, x='user_type', y=\"duration_min\", hue=\"member_gender\", kind=\"bar\", height=5, aspect=2);\n",
    "\n",
    "graph.set_axis_labels(\"User Type\", \"Trip Duration (Min)\")\n",
    "graph._legend.set_title('Gender')\n",
    "graph.fig.suptitle('Ford GoBike System - Trip Duration (Min) Per User Type and Gender', y=1.05, fontsize=16, fontweight='bold');\n"
   ]
  },
  {
   "cell_type": "code",
   "execution_count": 110,
   "metadata": {
    "scrolled": true
   },
   "outputs": [
    {
     "data": {
      "image/png": "[encoded data removed]",
      "text/plain": [
       "<Figure size 810.375x360 with 1 Axes>"
      ]
     },
     "metadata": {
      "needs_background": "light"
     },
     "output_type": "display_data"
    }
   ],
   "source": [
    "# Violinplot - duration (min) per user type and gender\n",
    "\n",
    "graph = sb.catplot(data=data, x='user_type', y=\"duration_min\", hue=\"member_gender\", kind=\"violin\", height=5, aspect=2);\n",
    "\n",
    "graph.set_axis_labels(\"User Type\", \"Trip Duration (Min)\")\n",
    "graph._legend.set_title('Gender')\n",
    "graph.fig.suptitle('Ford GoBike System - Trip Duration (Min) Per User Type and Gender', y=1.05, fontsize=16, fontweight='bold');"
   ]
  },
  {
   "cell_type": "markdown",
   "metadata": {},
   "source": [
    "**Observation**\\\n",
    "From observation, both female customers and subscribers take longer trips than other genders even though male subscribers and customers take more trips."
   ]
  },
  {
   "cell_type": "markdown",
   "metadata": {},
   "source": [
    "### Number of bike trips by age group and user type Visualization\n",
    "**Which age group user type takes more bike trips?**"
   ]
  },
  {
   "cell_type": "code",
   "execution_count": 25,
   "metadata": {
    "scrolled": true
   },
   "outputs": [
    {
     "data": {
      "text/plain": [
       "count    175147.000000\n",
       "mean         34.193563\n",
       "std          10.116689\n",
       "min          18.000000\n",
       "25%          27.000000\n",
       "50%          32.000000\n",
       "75%          39.000000\n",
       "max         141.000000\n",
       "Name: member_age, dtype: float64"
      ]
     },
     "execution_count": 25,
     "metadata": {},
     "output_type": "execute_result"
    }
   ],
   "source": [
    "gobike_df_clean.member_age.describe()"
   ]
  },
  {
   "cell_type": "code",
   "execution_count": 41,
   "metadata": {},
   "outputs": [],
   "source": [
    "# Create Bin edges to \"cut\" the age data into groups('15-25','26-35','36-45','46-60')\n",
    "bin_edges = [ 15 ,25 , 35, 45,60] \n",
    "bin_names=['15-25','26-35','36-45','46-60']\n",
    "gobike_df_clean['member_age_group']=pd.cut(gobike_df_clean['member_age'],bin_edges,labels=bin_names)"
   ]
  },
  {
   "cell_type": "code",
   "execution_count": 42,
   "metadata": {
    "scrolled": true
   },
   "outputs": [
    {
     "data": {
      "text/plain": [
       "26-35    83520\n",
       "36-45    37202\n",
       "15-25    30652\n",
       "46-60    20243\n",
       "Name: member_age_group, dtype: int64"
      ]
     },
     "execution_count": 42,
     "metadata": {},
     "output_type": "execute_result"
    }
   ],
   "source": [
    "gobike_df_clean['member_age_group'].value_counts()"
   ]
  },
  {
   "cell_type": "code",
   "execution_count": 43,
   "metadata": {
    "scrolled": true
   },
   "outputs": [
    {
     "data": {
      "image/png": "[encoded data removed]",
      "text/plain": [
       "<Figure size 720x576 with 1 Axes>"
      ]
     },
     "metadata": {
      "needs_background": "light"
     },
     "output_type": "display_data"
    }
   ],
   "source": [
    "plt.figure(figsize = [10, 8])\n",
    "g = sb.countplot(data=gobike_df_clean, x=\"user_type\", hue=\"member_age_group\", order=gobike_df_clean.user_type.value_counts().index)\n",
    "x_y_t('User Type',\"Number of bike trips\",'Ford GoBike System Bike - Customers vs. Subscribers Age Group Usage')\n"
   ]
  },
  {
   "cell_type": "markdown",
   "metadata": {},
   "source": [
    "**Observation**\\\n",
    "In general, subscribers between the ages of 26 and 35 takes more bike trips that other age groups."
   ]
  },
  {
   "cell_type": "markdown",
   "metadata": {},
   "source": [
    "### Trip duration by age group and user type Visualization\n",
    "**Which age group user type takes longer trips?**"
   ]
  },
  {
   "cell_type": "code",
   "execution_count": 66,
   "metadata": {
    "scrolled": true
   },
   "outputs": [
    {
     "data": {
      "image/png": "[encoded data removed]",
      "text/plain": [
       "<Figure size 827.375x360 with 1 Axes>"
      ]
     },
     "metadata": {
      "needs_background": "light"
     },
     "output_type": "display_data"
    }
   ],
   "source": [
    "\n",
    "graph = sb.catplot(data=gobike_df_clean, x='user_type', y=\"duration_min\", hue=\"member_age_group\", kind=\"bar\", height=5, aspect=2);\n",
    "\n",
    "graph.set_axis_labels(\"User Type\", \"Trip Duration (Min)\")\n",
    "graph._legend.set_title('Age group')\n",
    "graph.fig.suptitle('Ford GoBike System - Trip Duration (Min) Per User Type and Gender', y=1.05, fontsize=16, fontweight='bold');"
   ]
  },
  {
   "cell_type": "markdown",
   "metadata": {},
   "source": [
    "**Observation**\\\n",
    "Even though subscribers between the ages of 26 and 35 takes more bike trips, customers between the ages of 15 and 25 takes longer trips than other age groups. This can be explained by the fact that customers between the ages of 15-25 use the bike share for tourism and pleasure, whereas subscribers between the ages of 26 and 35 strictly use the bike share to commute to work/school. Also customers between the ages of 46 and 60 happens to take longer trips given that the fact that they record the lower number of bike trip."
   ]
  },
  {
   "cell_type": "markdown",
   "metadata": {},
   "source": [
    "### Daily bike usage by age group and user type Visualization"
   ]
  },
  {
   "cell_type": "code",
   "execution_count": 46,
   "metadata": {
    "scrolled": true
   },
   "outputs": [
    {
     "data": {
      "image/png": "[encoded data removed]",
      "text/plain": [
       "<Figure size 1080x576 with 2 Axes>"
      ]
     },
     "metadata": {
      "needs_background": "light"
     },
     "output_type": "display_data"
    }
   ],
   "source": [
    "plt.figure(figsize = [15, 8])\n",
    "\n",
    "plt.subplot(1, 2, 1)\n",
    "df_cleaned_cus_user_week = gobike_df_clean[gobike_df_clean['user_type'] == 'Customer'].groupby(['start_dayofweek', 'member_age_group']).size().reset_index()\n",
    "weekday = ['Mon', 'Tue', 'Wed', 'Thu', 'Fri', 'Sat', 'Sun']\n",
    "\n",
    "ax = sb.pointplot(data=df_cleaned_cus_user_week, x='start_dayofweek', y=0, hue = 'member_age_group', scale=.7, order = weekday);\n",
    "x_y_t('Days of Week',\"Number of bike trips\",'Ford GoBike System Bike - Customers Age Group Usage')\n",
    "plt.grid()\n",
    "\n",
    "plt.subplot(1, 2, 2)\n",
    "df_cleaned_sub_user_week = gobike_df_clean[gobike_df_clean['user_type'] == 'Subscriber'].groupby(['start_dayofweek', 'member_age_group']).size().reset_index()\n",
    "weekday = ['Mon', 'Tue', 'Wed', 'Thu', 'Fri', 'Sat', 'Sun']\n",
    "\n",
    "ax = sb.pointplot(data=df_cleaned_sub_user_week, x='start_dayofweek', y=0, hue = 'member_age_group', scale=.7, order = weekday);\n",
    "x_y_t('Days of Week',\"Number of bike trips\",'Ford GoBike System Bike -Subscribers Age Group Usage')\n",
    "#plt.title('Ford GoBike System Daily Usage Per User Type and Age Group', y=1.05, fontsize=16, fontweight='bold')\n",
    "plt.grid()"
   ]
  },
  {
   "cell_type": "markdown",
   "metadata": {},
   "source": [
    "**Observation**\\\n",
    "Generally, subscribers and customers who fall within the age group of 26-35 years old are most likely to use the Gobike sharing system. Bikers between the ages of 36-45 year which follows a similar trend to that of 26-35 year olds age group are the next most likely to use the Gobike sharing system. The youngest age group (15-25 years) olds starts off with very few rides below age group (36-45 years) old, but increases over the weekend (Sat and Sun) above the age group (36-45 years) old. In general, customers of all age group (except 46-60) turn to user the Gobike system more over the weekend which is explained by the increase in number of bike trips from Saturday to Sunday. However, we see a huge decline in the number of trips from Thursday to Sunday for subscribers of all age group except for the youngest age group(15-25 years) which slightly increased on Sunday.\n",
    "This can be explain by the fact that, subscribers who normally use the share bike system to commute to work/school prefer to stay at home and rest rather than out for pleasure or tourism as the youngest age group would."
   ]
  },
  {
   "cell_type": "markdown",
   "metadata": {},
   "source": [
    "### Trip Duration by user type and days of the week Visualization\n",
    "**Which user type takes longer trips during the week?**"
   ]
  },
  {
   "cell_type": "code",
   "execution_count": 47,
   "metadata": {},
   "outputs": [
    {
     "data": {
      "image/png": "[encoded data removed]",
      "text/plain": [
       "<Figure size 809.125x360 with 1 Axes>"
      ]
     },
     "metadata": {
      "needs_background": "light"
     },
     "output_type": "display_data"
    }
   ],
   "source": [
    "weekday = ['Mon', 'Tue', 'Wed', 'Thu', 'Fri', 'Sat', 'Sun']\n",
    "graph = sb.catplot(data=gobike_df_clean, x='start_dayofweek', y=\"duration_min\", hue=\"user_type\", kind=\"bar\",order=weekday, height=5, aspect=2);\n",
    "x_y_t('Day of Week',\"Trip Duration (Min)\",'Ford GoBike System Bike - Trip Duration (Min) Per User Type and Days of the week')\n"
   ]
  },
  {
   "cell_type": "markdown",
   "metadata": {},
   "source": [
    "**Observation**\\\n",
    "Customers generally take long trips than subscribers. Customers happen to speed more time riding the Gobikes on weekends more than the weekday."
   ]
  },
  {
   "cell_type": "markdown",
   "metadata": {},
   "source": [
    "Save dataframe to file"
   ]
  },
  {
   "cell_type": "code",
   "execution_count": null,
   "metadata": {},
   "outputs": [],
   "source": [
    "gobike_df_clean.to_csv('gobike_master.csv', index= False)"
   ]
  },
  {
   "cell_type": "markdown",
   "metadata": {},
   "source": [
    "### Talk about some of the relationships you observed in this part of the investigation. Were there features that strengthened each other in terms of looking at your feature(s) of interest?\n",
    "\n",
    "> Exploring the data through different visuals and adding more variables to compare to other variables helped establish some relationships between some of the features. Subscriber and Customer gender per duration was explored using a violin point and bar plot.In addition to that, subscriber and customer age was expanded using member age groups. A pointplot was then used to demonstrate the daily bike usage by each age group. \n",
    "\n",
    "### Were there any interesting or surprising interactions between features?\n",
    "\n",
    "> It was interesting to find out that, even though male generally takes bike trips that female and other gender, the females rides the bikes longer that male. Customers between the ages of 15 and 25 takes longer trips than other age groups, even though customers between the ages of 26 and 35 takes more bike trips."
   ]
  },
  {
   "cell_type": "markdown",
   "metadata": {},
   "source": [
    "## Conclusions\n",
    ">>The dataset uses data collected in different location in the San Francisco Bay area of California in the month February 2019. The dataset contains approximately 183400 bike riders infomation.\n",
    "74.6% of all bike rides were male, and 23% were females. Out of these bikers, about 89% are subscribers and 10% are casual customers. It appears that people generally use the bike service on weekdays more than weekends with 8am and 5pm recording peak hours for most bike trips.  subscribers and customers who fall within the age group of 26-35 years old use the Gobike sharing system more than other age group. \n",
    "In conclusion, renting a bike from the Ford GoBike System is a fantastic, affordable, convenient, healthy and environmentally friendly way of moving around in the Bay area's for work, school and pleasure. Subscribers and Customers are the two types of users or clients who rent these bikes. Subscribers are primarily use the bikes on a daily basis to commute i.e taking short trips to and from work and rent a bike on weekdays at 8-9am and 5-6pm, and, occasionally around lunch time. Customers are usually tourists or occassional riders who use the system mainly on weekends to explore the Bay Area.\n",
    "\n"
   ]
  }
 ],
 "metadata": {
  "kernelspec": {
   "display_name": "Python 3 (ipykernel)",
   "language": "python",
   "name": "python3"
  },
  "language_info": {
   "codemirror_mode": {
    "name": "ipython",
    "version": 3
   },
   "file_extension": ".py",
   "mimetype": "text/x-python",
   "name": "python",
   "nbconvert_exporter": "python",
   "pygments_lexer": "ipython3",
   "version": "3.9.12"
  }
 },
 "nbformat": 4,
 "nbformat_minor": 2
}
